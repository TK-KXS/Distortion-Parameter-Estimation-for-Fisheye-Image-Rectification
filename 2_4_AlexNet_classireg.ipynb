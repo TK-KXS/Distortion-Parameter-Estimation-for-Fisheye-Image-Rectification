{
 "cells": [
  {
   "cell_type": "code",
   "execution_count": 1,
   "metadata": {},
   "outputs": [
    {
     "name": "stderr",
     "output_type": "stream",
     "text": [
      "Matplotlib is building the font cache; this may take a moment.\n"
     ]
    }
   ],
   "source": [
    "import os\n",
    "import pandas as pd\n",
    "from PIL import Image\n",
    "import torch\n",
    "import torch.nn as nn\n",
    "from torchvision import transforms\n",
    "from torch.utils.data import Dataset, DataLoader, Subset\n",
    "from torchvision.models import alexnet\n",
    "from torch.optim import Adam\n",
    "from sklearn.model_selection import train_test_split\n",
    "from tqdm import tqdm\n",
    "import torch.nn.functional as F\n",
    "from sklearn.metrics import classification_report, confusion_matrix\n",
    "import matplotlib.pyplot as plt\n",
    "import seaborn as sns\n",
    "import matplotlib as mpl\n",
    "import numpy as np"
   ]
  },
  {
   "cell_type": "code",
   "execution_count": 2,
   "metadata": {},
   "outputs": [],
   "source": [
    "mpl.rcParams['figure.dpi'] = 300\n",
    "sns.set_theme()\n",
    "sns.set_style(\"ticks\")"
   ]
  },
  {
   "cell_type": "markdown",
   "metadata": {},
   "source": [
    "# Training"
   ]
  },
  {
   "cell_type": "markdown",
   "metadata": {},
   "source": [
    "## Setup"
   ]
  },
  {
   "cell_type": "code",
   "execution_count": 40,
   "metadata": {},
   "outputs": [],
   "source": [
    "# Inputs\n",
    "\n",
    "df_train_path = 'df_train.csv'\n",
    "df_val_path  = 'df_val.csv'\n",
    "df_test_path  = 'df_test.csv'\n",
    "distort_img_path = 'distorted_crosswalk_images_crop'\n",
    "num_epochs_for_today = 10\n",
    "checkpoint_path = 'AlexNet_cuda_weights/AlexNet_ClassReg_Checkpoint.pth.tar'"
   ]
  },
  {
   "cell_type": "code",
   "execution_count": 41,
   "metadata": {},
   "outputs": [],
   "source": [
    "df_train_full = pd.read_csv(df_train_path)\n",
    "df_val_full = pd.read_csv(df_val_path)\n",
    "df_test_full = pd.read_csv(df_test_path)\n",
    "\n",
    "df_train = df_train_full[[\"id2\",\"level\",\"k\"]]\n",
    "df_val = df_val_full[[\"id2\",\"level\",\"k\"]]\n",
    "df_test = df_test_full[[\"id2\",\"level\",\"k\"]]\n",
    "df_test_with_id1 = df_test_full[[\"id1\",\"id2\",\"level\"]]"
   ]
  },
  {
   "cell_type": "code",
   "execution_count": 42,
   "metadata": {},
   "outputs": [],
   "source": [
    "# Define the Data Transformations\n",
    "transform = transforms.Compose([\n",
    "    transforms.Resize((224, 224)),\n",
    "    transforms.ToTensor(),\n",
    "    transforms.Normalize(mean=[0.485, 0.456, 0.406], std=[0.229, 0.224, 0.225]),\n",
    "])\n",
    "\n",
    "# Create the Custom Dataset Class\n",
    "class CrosswayDataset(Dataset):\n",
    "    def __init__(self, dataframe, root_dir, transform=None):\n",
    "        self.dataframe = dataframe\n",
    "        self.root_dir = root_dir\n",
    "        self.transform = transform\n",
    "\n",
    "    def __len__(self):\n",
    "        return len(self.dataframe)\n",
    "\n",
    "    def __getitem__(self, idx):\n",
    "        img_name = os.path.join(self.root_dir, str(self.dataframe.iloc[idx, 0]) + '.jpg')\n",
    "        image = Image.open(img_name).convert('RGB')\n",
    "        label = int(self.dataframe.iloc[idx, 1])\n",
    "        k_value = float(self.dataframe.iloc[idx, 2])  # New line to extract the \"k\" value\n",
    "        \n",
    "        if self.transform:\n",
    "            image = self.transform(image)\n",
    "        \n",
    "        return image, label, k_value  # Return the image, label, and k_value\n",
    "    \n",
    "def load_checkpoint(filename):\n",
    "    checkpoint = torch.load(filename)\n",
    "    model.load_state_dict(checkpoint['model_state'])\n",
    "    optimizer.load_state_dict(checkpoint['optimizer_state'])\n",
    "    start_epoch = checkpoint['epoch']\n",
    "    return start_epoch"
   ]
  },
  {
   "cell_type": "code",
   "execution_count": 43,
   "metadata": {},
   "outputs": [],
   "source": [
    "# Create Dataset Objects and DataLoaders\n",
    "train_dataset = CrosswayDataset(dataframe=df_train, root_dir=distort_img_path, transform=transform)\n",
    "val_dataset = CrosswayDataset(dataframe=df_val, root_dir=distort_img_path, transform=transform)\n",
    "test_dataset = CrosswayDataset(dataframe=df_test, root_dir=distort_img_path, transform=transform)\n",
    "\n",
    "train_loader = DataLoader(train_dataset, batch_size=32, shuffle=True)\n",
    "val_loader = DataLoader(val_dataset, batch_size=32, shuffle=False)\n",
    "test_loader = DataLoader(test_dataset, batch_size=32, shuffle=False)"
   ]
  },
  {
   "cell_type": "markdown",
   "metadata": {
    "tags": []
   },
   "source": [
    "## Begin training"
   ]
  },
  {
   "cell_type": "code",
   "execution_count": 39,
   "metadata": {},
   "outputs": [],
   "source": [
    "# Generate k_list using NumPy\n",
    "k_list = np.linspace(1e-6, 1e-4, 100)\n",
    "\n",
    "# Convert k_list to a PyTorch tensor\n",
    "k_list_tensor = torch.tensor(k_list, dtype=torch.float32)\n",
    "\n",
    "# Calculate k_means as the average of adjacent elements in k_list\n",
    "k_means_np = (k_list[1:] + k_list[:-1]) / 2\n",
    "\n",
    "# Convert k_means to a PyTorch tensor\n",
    "k_means = torch.tensor(k_means_np, dtype=torch.float32)\n",
    "\n",
    "def get_k_preds(level_preds, k_means, k_gts, device):\n",
    "    # Convert logits to probabilities using softmax\n",
    "    probabilities = F.softmax(level_preds, dim=1)\n",
    "    \n",
    "    # print(probabilities)\n",
    "    \n",
    "    # Ensure X is on the correct device\n",
    "    k_means = k_means.to(device)\n",
    "    \n",
    "    # Perform the dot product between probabilities and X\n",
    "    k_preds = torch.matmul(probabilities, k_means).unsqueeze(1)\n",
    "    \n",
    "    # Ensure the output dimension matches k_gts\n",
    "    # Assuming k_gts has shape [batch_size, target_dimension]\n",
    "    # The resulting outputs_k_gt should have the same shape as k_gts\n",
    "    \n",
    "#     print(f\"k_preds.shape ={k_preds.shape}\")\n",
    "#     print(f\"k_gts.shape ={k_gts.shape}\")\n",
    "    assert k_preds.shape == k_gts.shape, \"Shape mismatch between outputs_k_gt and k_gts\"\n",
    "\n",
    "    return k_preds"
   ]
  },
  {
   "cell_type": "code",
   "execution_count": 16,
   "metadata": {},
   "outputs": [
    {
     "name": "stdout",
     "output_type": "stream",
     "text": [
      "Using device: cuda\n",
      "Resuming training from epoch 21\n"
     ]
    },
    {
     "name": "stderr",
     "output_type": "stream",
     "text": [
      "                                                                                      \r"
     ]
    },
    {
     "name": "stdout",
     "output_type": "stream",
     "text": [
      "Epoch [21/30] Training Loss: 1.7594\n"
     ]
    },
    {
     "name": "stderr",
     "output_type": "stream",
     "text": [
      "                                                                                      \r"
     ]
    },
    {
     "name": "stdout",
     "output_type": "stream",
     "text": [
      "Epoch [21/30] Validation Loss: 1.8911\n",
      "Checkpoint saved at epoch 21\n",
      "Model saved to AlexNet_weights/classreg/alexnet_classreg_epoch_21.pth\n"
     ]
    },
    {
     "name": "stderr",
     "output_type": "stream",
     "text": [
      "                                                                                      \r"
     ]
    },
    {
     "name": "stdout",
     "output_type": "stream",
     "text": [
      "Epoch [22/30] Training Loss: 1.7151\n"
     ]
    },
    {
     "name": "stderr",
     "output_type": "stream",
     "text": [
      "                                                                                      \r"
     ]
    },
    {
     "name": "stdout",
     "output_type": "stream",
     "text": [
      "Epoch [22/30] Validation Loss: 1.9652\n",
      "Checkpoint saved at epoch 22\n",
      "Model saved to AlexNet_weights/classreg/alexnet_classreg_epoch_22.pth\n"
     ]
    },
    {
     "name": "stderr",
     "output_type": "stream",
     "text": [
      "                                                                                      \r"
     ]
    },
    {
     "name": "stdout",
     "output_type": "stream",
     "text": [
      "Epoch [23/30] Training Loss: 1.6731\n"
     ]
    },
    {
     "name": "stderr",
     "output_type": "stream",
     "text": [
      "                                                                                      \r"
     ]
    },
    {
     "name": "stdout",
     "output_type": "stream",
     "text": [
      "Epoch [23/30] Validation Loss: 1.9558\n",
      "Checkpoint saved at epoch 23\n",
      "Model saved to AlexNet_weights/classreg/alexnet_classreg_epoch_23.pth\n"
     ]
    },
    {
     "name": "stderr",
     "output_type": "stream",
     "text": [
      "                                                                                      \r"
     ]
    },
    {
     "name": "stdout",
     "output_type": "stream",
     "text": [
      "Epoch [24/30] Training Loss: 1.6311\n"
     ]
    },
    {
     "name": "stderr",
     "output_type": "stream",
     "text": [
      "                                                                                      \r"
     ]
    },
    {
     "name": "stdout",
     "output_type": "stream",
     "text": [
      "Epoch [24/30] Validation Loss: 1.9564\n",
      "Checkpoint saved at epoch 24\n",
      "Model saved to AlexNet_weights/classreg/alexnet_classreg_epoch_24.pth\n"
     ]
    },
    {
     "name": "stderr",
     "output_type": "stream",
     "text": [
      "                                                                                      \r"
     ]
    },
    {
     "name": "stdout",
     "output_type": "stream",
     "text": [
      "Epoch [25/30] Training Loss: 1.6042\n"
     ]
    },
    {
     "name": "stderr",
     "output_type": "stream",
     "text": [
      "                                                                                      \r"
     ]
    },
    {
     "name": "stdout",
     "output_type": "stream",
     "text": [
      "Epoch [25/30] Validation Loss: 1.9920\n",
      "Checkpoint saved at epoch 25\n",
      "Model saved to AlexNet_weights/classreg/alexnet_classreg_epoch_25.pth\n"
     ]
    },
    {
     "name": "stderr",
     "output_type": "stream",
     "text": [
      "                                                                                      \r"
     ]
    },
    {
     "name": "stdout",
     "output_type": "stream",
     "text": [
      "Epoch [26/30] Training Loss: 1.5640\n"
     ]
    },
    {
     "name": "stderr",
     "output_type": "stream",
     "text": [
      "                                                                                      \r"
     ]
    },
    {
     "name": "stdout",
     "output_type": "stream",
     "text": [
      "Epoch [26/30] Validation Loss: 1.9483\n",
      "Checkpoint saved at epoch 26\n",
      "Model saved to AlexNet_weights/classreg/alexnet_classreg_epoch_26.pth\n"
     ]
    },
    {
     "name": "stderr",
     "output_type": "stream",
     "text": [
      "                                                                                       \r"
     ]
    },
    {
     "name": "stdout",
     "output_type": "stream",
     "text": [
      "Epoch [27/30] Training Loss: 1.5335\n"
     ]
    },
    {
     "name": "stderr",
     "output_type": "stream",
     "text": [
      "                                                                                      \r"
     ]
    },
    {
     "name": "stdout",
     "output_type": "stream",
     "text": [
      "Epoch [27/30] Validation Loss: 1.9883\n",
      "Checkpoint saved at epoch 27\n",
      "Model saved to AlexNet_weights/classreg/alexnet_classreg_epoch_27.pth\n"
     ]
    },
    {
     "name": "stderr",
     "output_type": "stream",
     "text": [
      "                                                                                       \r"
     ]
    },
    {
     "name": "stdout",
     "output_type": "stream",
     "text": [
      "Epoch [28/30] Training Loss: 1.4950\n"
     ]
    },
    {
     "name": "stderr",
     "output_type": "stream",
     "text": [
      "                                                                                      \r"
     ]
    },
    {
     "name": "stdout",
     "output_type": "stream",
     "text": [
      "Epoch [28/30] Validation Loss: 2.0234\n",
      "Checkpoint saved at epoch 28\n",
      "Model saved to AlexNet_weights/classreg/alexnet_classreg_epoch_28.pth\n"
     ]
    },
    {
     "name": "stderr",
     "output_type": "stream",
     "text": [
      "                                                                                       \r"
     ]
    },
    {
     "name": "stdout",
     "output_type": "stream",
     "text": [
      "Epoch [29/30] Training Loss: 1.4765\n"
     ]
    },
    {
     "name": "stderr",
     "output_type": "stream",
     "text": [
      "                                                                                      \r"
     ]
    },
    {
     "name": "stdout",
     "output_type": "stream",
     "text": [
      "Epoch [29/30] Validation Loss: 1.9881\n",
      "Checkpoint saved at epoch 29\n",
      "Model saved to AlexNet_weights/classreg/alexnet_classreg_epoch_29.pth\n"
     ]
    },
    {
     "name": "stderr",
     "output_type": "stream",
     "text": [
      "                                                                                       \r"
     ]
    },
    {
     "name": "stdout",
     "output_type": "stream",
     "text": [
      "Epoch [30/30] Training Loss: 1.4493\n"
     ]
    },
    {
     "name": "stderr",
     "output_type": "stream",
     "text": [
      "                                                                                      \r"
     ]
    },
    {
     "name": "stdout",
     "output_type": "stream",
     "text": [
      "Epoch [30/30] Validation Loss: 2.1625\n",
      "Checkpoint saved at epoch 30\n",
      "Model saved to AlexNet_weights/classreg/alexnet_classreg_epoch_30.pth\n"
     ]
    }
   ],
   "source": [
    "# Load the pretrained AlexNet model\n",
    "model = alexnet(pretrained=True)\n",
    "\n",
    "# Modify the classifier to output 99 classes\n",
    "model.classifier[-1] = nn.Linear(in_features=4096, out_features=99)\n",
    "\n",
    "# Move the model to the GPU if available\n",
    "device = torch.device('cuda' if torch.cuda.is_available() else 'cpu')\n",
    "print(f\"Using device: {device}\")  # Add this line to check if GPU is being used\n",
    "\n",
    "model.to(device)\n",
    "\n",
    "# Loss function and optimizer\n",
    "criterionCE = nn.CrossEntropyLoss()\n",
    "criterionMSE = nn.MSELoss()\n",
    "optimizer = Adam(model.parameters(), lr=1e-4)\n",
    "\n",
    "# Load checkpoint if it exists\n",
    "if os.path.exists(checkpoint_path):\n",
    "    start_epoch = load_checkpoint(checkpoint_path)\n",
    "    print(f\"Resuming training from epoch {start_epoch + 1}\")\n",
    "else:\n",
    "    start_epoch = 0\n",
    "\n",
    "# Training loop\n",
    "num_epochs = start_epoch + num_epochs_for_today\n",
    "\n",
    "training_loss_list = []\n",
    "validation_loss_list = []\n",
    "\n",
    "for epoch in range(start_epoch, num_epochs):\n",
    "    model.train()\n",
    "    running_loss = 0.0\n",
    "    \n",
    "    # Training phase\n",
    "    progress_bar = tqdm(train_loader, desc=f\"Epoch {epoch+1}/{num_epochs} [Training]\", leave=False)\n",
    "    for images, level_gts, k_gts in progress_bar:\n",
    "        images = images.to(device)\n",
    "        level_gts = level_gts.to(device)\n",
    "        k_gts = k_gts.to(device).float().view(-1, 1)\n",
    "\n",
    "        # Forward pass\n",
    "        level_preds = model(images)\n",
    "        k_preds = get_k_preds(level_preds, k_means, k_gts, device)\n",
    "        \n",
    "        loss = criterionCE(level_preds, level_gts) + criterionMSE(k_preds, k_gts)*1e11\n",
    "\n",
    "        # Backward pass and optimization\n",
    "        optimizer.zero_grad()\n",
    "        loss.backward()\n",
    "        optimizer.step()\n",
    "\n",
    "        running_loss += loss.item() * images.size(0)\n",
    "        \n",
    "        # Update the progress bar\n",
    "        progress_bar.set_postfix(loss=loss.item())\n",
    "\n",
    "    epoch_loss = running_loss / len(train_dataset)\n",
    "    training_loss_list.append(epoch_loss)\n",
    "    print(f'Epoch [{epoch+1}/{num_epochs}] Training Loss: {epoch_loss:.4f}')\n",
    "    \n",
    "    # Validation phase\n",
    "    model.eval()\n",
    "    val_loss = 0.0\n",
    "    with torch.no_grad():\n",
    "        progress_bar = tqdm(val_loader, desc=f\"Epoch {epoch+1}/{num_epochs} [Validation]\", leave=False)\n",
    "        for images, level_gts, k_gts in progress_bar:\n",
    "            images = images.to(device)\n",
    "            level_gts = level_gts.to(device)\n",
    "            k_gts = k_gts.to(device).float().view(-1, 1)\n",
    "\n",
    "\n",
    "            # Forward pass\n",
    "            level_preds = model(images)\n",
    "            k_preds = get_k_preds(level_preds, k_means, k_gts, device)\n",
    "            \n",
    "            loss = criterionCE(level_preds, level_gts) + criterionMSE(k_preds, k_gts)*1e10\n",
    "            val_loss += loss.item() * images.size(0)\n",
    "            \n",
    "            # Update the progress bar\n",
    "            progress_bar.set_postfix(loss=loss.item())\n",
    "    \n",
    "    val_loss /= len(val_dataset)\n",
    "    validation_loss_list.append(val_loss)\n",
    "    print(f'Epoch [{epoch+1}/{num_epochs}] Validation Loss: {val_loss:.4f}')\n",
    "    \n",
    "    # Save the model and optimizer states for this epoch\n",
    "    checkpoint = {\n",
    "        'epoch': epoch + 1,\n",
    "        'model_state': model.state_dict(),\n",
    "        'optimizer_state': optimizer.state_dict()\n",
    "    }\n",
    "    torch.save(checkpoint, checkpoint_path)\n",
    "    print(f\"Checkpoint saved at epoch {epoch+1}\")\n",
    "\n",
    "    # Save the model weights separately for this epoch\n",
    "    model_save_path = os.path.join(f'AlexNet_cuda_weights/classreg/alexnet_classreg_epoch_{epoch}.pth') #############################################\n",
    "    torch.save(model.state_dict(), model_save_path)\n",
    "    print(f'Model saved to {model_save_path}')"
   ]
  },
  {
   "cell_type": "code",
   "execution_count": 17,
   "metadata": {},
   "outputs": [
    {
     "data": {
      "text/plain": [
       "[1.7594259771192917,\n",
       " 1.715076392925147,\n",
       " 1.6731156857808431,\n",
       " 1.6310578087604408,\n",
       " 1.6041700078983498,\n",
       " 1.5639688139732437,\n",
       " 1.5334524374297172,\n",
       " 1.494950254156132,\n",
       " 1.4764579452167859,\n",
       " 1.4493093933721986]"
      ]
     },
     "execution_count": 17,
     "metadata": {},
     "output_type": "execute_result"
    }
   ],
   "source": [
    "training_loss_list"
   ]
  },
  {
   "cell_type": "code",
   "execution_count": 18,
   "metadata": {},
   "outputs": [
    {
     "data": {
      "text/plain": [
       "[1.891087046777359,\n",
       " 1.9652286590229382,\n",
       " 1.9557826803669784,\n",
       " 1.956366958858991,\n",
       " 1.992011159453729,\n",
       " 1.948330698832117,\n",
       " 1.9882703863490712,\n",
       " 2.023396417637064,\n",
       " 1.9881276339232319,\n",
       " 2.162480275077049]"
      ]
     },
     "execution_count": 18,
     "metadata": {},
     "output_type": "execute_result"
    }
   ],
   "source": [
    "validation_loss_list"
   ]
  },
  {
   "cell_type": "markdown",
   "metadata": {
    "tags": []
   },
   "source": [
    "# Inference"
   ]
  },
  {
   "cell_type": "code",
   "execution_count": 44,
   "metadata": {},
   "outputs": [
    {
     "name": "stdout",
     "output_type": "stream",
     "text": [
      "Using device: cuda\n"
     ]
    },
    {
     "data": {
      "text/plain": [
       "AlexNet(\n",
       "  (features): Sequential(\n",
       "    (0): Conv2d(3, 64, kernel_size=(11, 11), stride=(4, 4), padding=(2, 2))\n",
       "    (1): ReLU(inplace=True)\n",
       "    (2): MaxPool2d(kernel_size=3, stride=2, padding=0, dilation=1, ceil_mode=False)\n",
       "    (3): Conv2d(64, 192, kernel_size=(5, 5), stride=(1, 1), padding=(2, 2))\n",
       "    (4): ReLU(inplace=True)\n",
       "    (5): MaxPool2d(kernel_size=3, stride=2, padding=0, dilation=1, ceil_mode=False)\n",
       "    (6): Conv2d(192, 384, kernel_size=(3, 3), stride=(1, 1), padding=(1, 1))\n",
       "    (7): ReLU(inplace=True)\n",
       "    (8): Conv2d(384, 256, kernel_size=(3, 3), stride=(1, 1), padding=(1, 1))\n",
       "    (9): ReLU(inplace=True)\n",
       "    (10): Conv2d(256, 256, kernel_size=(3, 3), stride=(1, 1), padding=(1, 1))\n",
       "    (11): ReLU(inplace=True)\n",
       "    (12): MaxPool2d(kernel_size=3, stride=2, padding=0, dilation=1, ceil_mode=False)\n",
       "  )\n",
       "  (avgpool): AdaptiveAvgPool2d(output_size=(6, 6))\n",
       "  (classifier): Sequential(\n",
       "    (0): Dropout(p=0.5, inplace=False)\n",
       "    (1): Linear(in_features=9216, out_features=4096, bias=True)\n",
       "    (2): ReLU(inplace=True)\n",
       "    (3): Dropout(p=0.5, inplace=False)\n",
       "    (4): Linear(in_features=4096, out_features=4096, bias=True)\n",
       "    (5): ReLU(inplace=True)\n",
       "    (6): Linear(in_features=4096, out_features=99, bias=True)\n",
       "  )\n",
       ")"
      ]
     },
     "execution_count": 44,
     "metadata": {},
     "output_type": "execute_result"
    }
   ],
   "source": [
    "# Define the device\n",
    "device = torch.device('cuda' if torch.cuda.is_available() else 'cpu')\n",
    "print(f\"Using device: {device}\")\n",
    "\n",
    "# Load the pretrained AlexNet model\n",
    "model = alexnet(pretrained=True)\n",
    "\n",
    "# Modify the classifier to output 18 classes\n",
    "model.classifier[-1] = nn.Linear(in_features=4096, out_features=99)\n",
    "\n",
    "# Load the model weights\n",
    "model_path = 'AlexNet_cuda_weights/classreg/alexnet_classreg_epoch_22.pth'  ############# Select your trained model weights\n",
    "model.load_state_dict(torch.load(model_path))\n",
    "model.to(device)\n",
    "model.eval()"
   ]
  },
  {
   "cell_type": "markdown",
   "metadata": {
    "tags": []
   },
   "source": [
    "## Testing on 1 image"
   ]
  },
  {
   "cell_type": "code",
   "execution_count": 45,
   "metadata": {},
   "outputs": [],
   "source": [
    "# Define the image transformations (same as used during training)\n",
    "transform = transforms.Compose([\n",
    "    transforms.Resize((224, 224)),\n",
    "    transforms.ToTensor(),\n",
    "    transforms.Normalize(mean=[0.485, 0.456, 0.406], std=[0.229, 0.224, 0.225]),\n",
    "])\n",
    "\n",
    "# Function to perform inference and get probabilities\n",
    "def predict_image(image_path, model, transform, device):\n",
    "    # Load and preprocess the image\n",
    "    image = Image.open(image_path).convert('RGB')\n",
    "    image = transform(image).unsqueeze(0)  # Add batch dimension\n",
    "    image = image.to(device)\n",
    "\n",
    "    # Perform inference\n",
    "    with torch.no_grad():\n",
    "        outputs = model(image)\n",
    "        probabilities = F.softmax(outputs, dim=1)  # Convert logits to probabilities\n",
    "        predicted_class = torch.argmax(probabilities, dim=1)\n",
    "\n",
    "    return predicted_class.item(), probabilities.cpu().numpy().flatten()"
   ]
  },
  {
   "cell_type": "code",
   "execution_count": 46,
   "metadata": {},
   "outputs": [
    {
     "name": "stdout",
     "output_type": "stream",
     "text": [
      "Ground truth class: 76\n",
      "Predicted class: 72\n",
      "Probabilities for each class: [1.90436222e-09 1.32750727e-10 5.36980960e-10 6.70735065e-11\n",
      " 1.44975670e-10 1.31062078e-10 9.40541325e-11 4.75269685e-11\n",
      " 7.43704612e-11 2.07863823e-10 9.54638799e-11 7.44783402e-11\n",
      " 3.16168369e-10 1.01931165e-10 2.05520129e-10 1.63117159e-10\n",
      " 3.60883302e-11 9.67433147e-11 1.07519577e-10 2.66141310e-11\n",
      " 5.05752107e-11 8.12433662e-11 1.32743122e-10 6.77403897e-11\n",
      " 7.18391041e-11 6.54881496e-11 5.98949293e-11 2.28666669e-11\n",
      " 2.13298563e-11 4.15550094e-11 5.16046025e-11 5.87339899e-11\n",
      " 3.52577932e-11 3.82599265e-11 4.14196143e-11 2.28328918e-11\n",
      " 4.69951031e-12 1.42551118e-11 6.71339828e-13 1.88608542e-13\n",
      " 1.60952916e-13 1.83844774e-14 7.79587356e-15 1.68531452e-14\n",
      " 6.14288368e-15 2.03569410e-14 1.13739965e-14 5.27394371e-16\n",
      " 4.72075212e-14 5.09113123e-16 8.21532258e-15 8.00504835e-15\n",
      " 8.57678711e-15 9.75033686e-15 3.06657585e-15 2.94479881e-14\n",
      " 5.66323603e-15 5.31858368e-12 3.21357281e-11 8.14734565e-12\n",
      " 9.54881396e-10 1.25226662e-10 2.04385032e-07 1.31083095e-06\n",
      " 2.00759089e-08 3.71891889e-04 2.57503008e-04 1.19193952e-04\n",
      " 4.68613468e-02 2.58689802e-02 1.32798115e-02 1.27017066e-01\n",
      " 4.72877681e-01 9.14283171e-02 6.90713599e-02 3.35676931e-02\n",
      " 4.98808101e-02 6.82567358e-02 5.66335393e-06 6.97328651e-05\n",
      " 5.70385717e-04 4.92648745e-04 1.21722834e-07 5.12006171e-09\n",
      " 1.92894120e-07 9.93900699e-07 2.06768803e-07 1.89292333e-08\n",
      " 1.61309049e-10 7.47483464e-10 4.28595914e-09 1.63444955e-08\n",
      " 1.08413978e-09 5.08993056e-11 3.44042156e-11 6.48706866e-10\n",
      " 1.19904497e-09 1.15588213e-10 1.02666570e-10]\n"
     ]
    }
   ],
   "source": [
    "# Path to the image you want to infer\n",
    "test_img_path = os.path.join(distort_img_path, str(df_test.iloc[0, 0]) + '.jpg')\n",
    "\n",
    "# Perform inference\n",
    "predicted_class, probabilities = predict_image(test_img_path, model, transform, device)\n",
    "\n",
    "# Print the predicted class and probabilities\n",
    "print(f'Ground truth class: {df_test.iloc[0,1]}')\n",
    "print(f'Predicted class: {predicted_class}')\n",
    "print(f'Probabilities for each class: {probabilities}')"
   ]
  },
  {
   "cell_type": "markdown",
   "metadata": {
    "tags": []
   },
   "source": [
    "## Testing on `test_loader`"
   ]
  },
  {
   "cell_type": "markdown",
   "metadata": {
    "tags": []
   },
   "source": [
    "### Predicted levels, Predicted k, Percentage error"
   ]
  },
  {
   "cell_type": "code",
   "execution_count": 47,
   "metadata": {},
   "outputs": [
    {
     "data": {
      "text/plain": [
       "<torch.utils.data.dataloader.DataLoader at 0x7f57a8d63950>"
      ]
     },
     "execution_count": 47,
     "metadata": {},
     "output_type": "execute_result"
    }
   ],
   "source": [
    "test_loader"
   ]
  },
  {
   "cell_type": "code",
   "execution_count": 48,
   "metadata": {},
   "outputs": [
    {
     "name": "stdout",
     "output_type": "stream",
     "text": [
      "[1.50e-06 2.50e-06 3.50e-06 4.50e-06 5.50e-06 6.50e-06 7.50e-06 8.50e-06\n",
      " 9.50e-06 1.05e-05 1.15e-05 1.25e-05 1.35e-05 1.45e-05 1.55e-05 1.65e-05\n",
      " 1.75e-05 1.85e-05 1.95e-05 2.05e-05 2.15e-05 2.25e-05 2.35e-05 2.45e-05\n",
      " 2.55e-05 2.65e-05 2.75e-05 2.85e-05 2.95e-05 3.05e-05 3.15e-05 3.25e-05\n",
      " 3.35e-05 3.45e-05 3.55e-05 3.65e-05 3.75e-05 3.85e-05 3.95e-05 4.05e-05\n",
      " 4.15e-05 4.25e-05 4.35e-05 4.45e-05 4.55e-05 4.65e-05 4.75e-05 4.85e-05\n",
      " 4.95e-05 5.05e-05 5.15e-05 5.25e-05 5.35e-05 5.45e-05 5.55e-05 5.65e-05\n",
      " 5.75e-05 5.85e-05 5.95e-05 6.05e-05 6.15e-05 6.25e-05 6.35e-05 6.45e-05\n",
      " 6.55e-05 6.65e-05 6.75e-05 6.85e-05 6.95e-05 7.05e-05 7.15e-05 7.25e-05\n",
      " 7.35e-05 7.45e-05 7.55e-05 7.65e-05 7.75e-05 7.85e-05 7.95e-05 8.05e-05\n",
      " 8.15e-05 8.25e-05 8.35e-05 8.45e-05 8.55e-05 8.65e-05 8.75e-05 8.85e-05\n",
      " 8.95e-05 9.05e-05 9.15e-05 9.25e-05 9.35e-05 9.45e-05 9.55e-05 9.65e-05\n",
      " 9.75e-05 9.85e-05 9.95e-05]\n"
     ]
    }
   ],
   "source": [
    "# Given array\n",
    "k_list = np.linspace(1e-6, 1e-4, 100)\n",
    "\n",
    "# Initialize a list to store the averages\n",
    "k_mean = []\n",
    "\n",
    "# Loop through the array starting from the second element\n",
    "for i in range(1, len(k_list)):\n",
    "    mean = (k_list[i] + k_list[i-1]) / 2\n",
    "    k_mean.append(mean)\n",
    "\n",
    "# Convert the list to a numpy array (optional)\n",
    "k_mean = np.array(k_mean)\n",
    "\n",
    "print(k_mean)"
   ]
  },
  {
   "cell_type": "code",
   "execution_count": 49,
   "metadata": {},
   "outputs": [],
   "source": [
    "# Assuming the model is already loaded and test_dataset is defined\n",
    "model.eval()\n",
    "\n",
    "# Initialize lists to store true labels, predictions, and k predictions\n",
    "all_labels = []\n",
    "all_preds = []\n",
    "all_k_preds = []\n",
    "\n",
    "# Inference on the test dataset\n",
    "with torch.no_grad():\n",
    "    for images, level_gts, k_gts in test_loader:\n",
    "        images = images.to(device)\n",
    "        level_gts = level_gts.to(device)\n",
    "        k_gts = k_gts.to(device).float().view(-1, 1)\n",
    "\n",
    "\n",
    "        outputs = model(images)\n",
    "        \n",
    "        # Compute probabilities using softmax\n",
    "        probabilities = torch.nn.functional.softmax(outputs, dim=1).cpu().numpy()\n",
    "\n",
    "        # Predict class with max probability\n",
    "        _, preds = torch.max(outputs, 1)\n",
    "\n",
    "        # Compute k_predictions using np.dot(k_mean, probabilities) for each image\n",
    "        k_preds = np.dot(probabilities, k_mean)\n",
    "\n",
    "        all_labels.extend(level_gts.cpu().numpy())\n",
    "        all_preds.extend(preds.cpu().numpy())\n",
    "        all_k_preds.extend(k_preds)"
   ]
  },
  {
   "cell_type": "code",
   "execution_count": 50,
   "metadata": {},
   "outputs": [],
   "source": [
    "# Convert lists to numpy arrays\n",
    "all_labels = np.array(all_labels)\n",
    "all_preds = np.array(all_preds)\n",
    "all_k_preds = np.array(all_k_preds)"
   ]
  },
  {
   "cell_type": "code",
   "execution_count": 51,
   "metadata": {},
   "outputs": [],
   "source": [
    "df_test_report = df_test_with_id1.copy(deep=True)\n",
    "df_test_report[\"level_preds\"] = all_preds\n",
    "df_test_report[\"k_gt\"] = df_test_full[\"k\"]\n",
    "df_test_report[\"k_preds\"] = all_k_preds"
   ]
  },
  {
   "cell_type": "code",
   "execution_count": 52,
   "metadata": {},
   "outputs": [
    {
     "name": "stdout",
     "output_type": "stream",
     "text": [
      "average_percentage_error = 4.389089774101484\n"
     ]
    },
    {
     "data": {
      "text/html": [
       "<div>\n",
       "<style scoped>\n",
       "    .dataframe tbody tr th:only-of-type {\n",
       "        vertical-align: middle;\n",
       "    }\n",
       "\n",
       "    .dataframe tbody tr th {\n",
       "        vertical-align: top;\n",
       "    }\n",
       "\n",
       "    .dataframe thead th {\n",
       "        text-align: right;\n",
       "    }\n",
       "</style>\n",
       "<table border=\"1\" class=\"dataframe\">\n",
       "  <thead>\n",
       "    <tr style=\"text-align: right;\">\n",
       "      <th></th>\n",
       "      <th>id1</th>\n",
       "      <th>id2</th>\n",
       "      <th>level</th>\n",
       "      <th>level_preds</th>\n",
       "      <th>k_gt</th>\n",
       "      <th>k_preds</th>\n",
       "      <th>percentage_error</th>\n",
       "    </tr>\n",
       "  </thead>\n",
       "  <tbody>\n",
       "    <tr>\n",
       "      <th>0</th>\n",
       "      <td>1000673</td>\n",
       "      <td>2066703</td>\n",
       "      <td>76</td>\n",
       "      <td>72</td>\n",
       "      <td>0.000078</td>\n",
       "      <td>0.000074</td>\n",
       "      <td>4.819882</td>\n",
       "    </tr>\n",
       "    <tr>\n",
       "      <th>1</th>\n",
       "      <td>1000756</td>\n",
       "      <td>2074905</td>\n",
       "      <td>61</td>\n",
       "      <td>63</td>\n",
       "      <td>0.000062</td>\n",
       "      <td>0.000064</td>\n",
       "      <td>3.033108</td>\n",
       "    </tr>\n",
       "    <tr>\n",
       "      <th>2</th>\n",
       "      <td>1000222</td>\n",
       "      <td>2022038</td>\n",
       "      <td>60</td>\n",
       "      <td>62</td>\n",
       "      <td>0.000061</td>\n",
       "      <td>0.000064</td>\n",
       "      <td>5.043041</td>\n",
       "    </tr>\n",
       "    <tr>\n",
       "      <th>3</th>\n",
       "      <td>1000612</td>\n",
       "      <td>2060686</td>\n",
       "      <td>98</td>\n",
       "      <td>92</td>\n",
       "      <td>0.000100</td>\n",
       "      <td>0.000092</td>\n",
       "      <td>8.315141</td>\n",
       "    </tr>\n",
       "    <tr>\n",
       "      <th>4</th>\n",
       "      <td>1000041</td>\n",
       "      <td>2004094</td>\n",
       "      <td>35</td>\n",
       "      <td>36</td>\n",
       "      <td>0.000036</td>\n",
       "      <td>0.000037</td>\n",
       "      <td>3.151521</td>\n",
       "    </tr>\n",
       "    <tr>\n",
       "      <th>...</th>\n",
       "      <td>...</td>\n",
       "      <td>...</td>\n",
       "      <td>...</td>\n",
       "      <td>...</td>\n",
       "      <td>...</td>\n",
       "      <td>...</td>\n",
       "      <td>...</td>\n",
       "    </tr>\n",
       "    <tr>\n",
       "      <th>9895</th>\n",
       "      <td>1000220</td>\n",
       "      <td>2021815</td>\n",
       "      <td>35</td>\n",
       "      <td>36</td>\n",
       "      <td>0.000037</td>\n",
       "      <td>0.000037</td>\n",
       "      <td>1.042848</td>\n",
       "    </tr>\n",
       "    <tr>\n",
       "      <th>9896</th>\n",
       "      <td>1000661</td>\n",
       "      <td>2065463</td>\n",
       "      <td>24</td>\n",
       "      <td>24</td>\n",
       "      <td>0.000025</td>\n",
       "      <td>0.000025</td>\n",
       "      <td>0.935780</td>\n",
       "    </tr>\n",
       "    <tr>\n",
       "      <th>9897</th>\n",
       "      <td>1000118</td>\n",
       "      <td>2011739</td>\n",
       "      <td>57</td>\n",
       "      <td>55</td>\n",
       "      <td>0.000058</td>\n",
       "      <td>0.000056</td>\n",
       "      <td>3.777710</td>\n",
       "    </tr>\n",
       "    <tr>\n",
       "      <th>9898</th>\n",
       "      <td>1000182</td>\n",
       "      <td>2018046</td>\n",
       "      <td>28</td>\n",
       "      <td>30</td>\n",
       "      <td>0.000030</td>\n",
       "      <td>0.000032</td>\n",
       "      <td>5.578436</td>\n",
       "    </tr>\n",
       "    <tr>\n",
       "      <th>9899</th>\n",
       "      <td>1000717</td>\n",
       "      <td>2071075</td>\n",
       "      <td>92</td>\n",
       "      <td>89</td>\n",
       "      <td>0.000093</td>\n",
       "      <td>0.000093</td>\n",
       "      <td>0.466187</td>\n",
       "    </tr>\n",
       "  </tbody>\n",
       "</table>\n",
       "<p>9900 rows × 7 columns</p>\n",
       "</div>"
      ],
      "text/plain": [
       "          id1      id2  level  level_preds      k_gt   k_preds  \\\n",
       "0     1000673  2066703     76           72  0.000078  0.000074   \n",
       "1     1000756  2074905     61           63  0.000062  0.000064   \n",
       "2     1000222  2022038     60           62  0.000061  0.000064   \n",
       "3     1000612  2060686     98           92  0.000100  0.000092   \n",
       "4     1000041  2004094     35           36  0.000036  0.000037   \n",
       "...       ...      ...    ...          ...       ...       ...   \n",
       "9895  1000220  2021815     35           36  0.000037  0.000037   \n",
       "9896  1000661  2065463     24           24  0.000025  0.000025   \n",
       "9897  1000118  2011739     57           55  0.000058  0.000056   \n",
       "9898  1000182  2018046     28           30  0.000030  0.000032   \n",
       "9899  1000717  2071075     92           89  0.000093  0.000093   \n",
       "\n",
       "      percentage_error  \n",
       "0             4.819882  \n",
       "1             3.033108  \n",
       "2             5.043041  \n",
       "3             8.315141  \n",
       "4             3.151521  \n",
       "...                ...  \n",
       "9895          1.042848  \n",
       "9896          0.935780  \n",
       "9897          3.777710  \n",
       "9898          5.578436  \n",
       "9899          0.466187  \n",
       "\n",
       "[9900 rows x 7 columns]"
      ]
     },
     "execution_count": 52,
     "metadata": {},
     "output_type": "execute_result"
    }
   ],
   "source": [
    "# Calculate the percentage error for each row\n",
    "df_test_report['percentage_error'] = 100 * abs(df_test_report['k_gt'] - df_test_report['k_preds']) / df_test_report['k_gt']\n",
    "\n",
    "# Compute the average percentage error across all rows\n",
    "average_percentage_error = df_test_report['percentage_error'].mean()\n",
    "\n",
    "print(\"average_percentage_error =\", average_percentage_error)\n",
    "\n",
    "df_test_report.to_csv('df_test_report_classreg.csv', index=False)\n",
    "\n",
    "df_test_report"
   ]
  },
  {
   "cell_type": "markdown",
   "metadata": {
    "tags": []
   },
   "source": [
    "### Classification Report, Confusion Matrix"
   ]
  },
  {
   "cell_type": "code",
   "execution_count": 53,
   "metadata": {},
   "outputs": [
    {
     "name": "stderr",
     "output_type": "stream",
     "text": [
      "/usr/local/lib64/python3.7/site-packages/sklearn/metrics/_classification.py:1318: UndefinedMetricWarning: Precision and F-score are ill-defined and being set to 0.0 in labels with no predicted samples. Use `zero_division` parameter to control this behavior.\n",
      "  _warn_prf(average, modifier, msg_start, len(result))\n",
      "/usr/local/lib64/python3.7/site-packages/sklearn/metrics/_classification.py:1318: UndefinedMetricWarning: Precision and F-score are ill-defined and being set to 0.0 in labels with no predicted samples. Use `zero_division` parameter to control this behavior.\n",
      "  _warn_prf(average, modifier, msg_start, len(result))\n",
      "/usr/local/lib64/python3.7/site-packages/sklearn/metrics/_classification.py:1318: UndefinedMetricWarning: Precision and F-score are ill-defined and being set to 0.0 in labels with no predicted samples. Use `zero_division` parameter to control this behavior.\n",
      "  _warn_prf(average, modifier, msg_start, len(result))\n"
     ]
    },
    {
     "data": {
      "text/html": [
       "<div>\n",
       "<style scoped>\n",
       "    .dataframe tbody tr th:only-of-type {\n",
       "        vertical-align: middle;\n",
       "    }\n",
       "\n",
       "    .dataframe tbody tr th {\n",
       "        vertical-align: top;\n",
       "    }\n",
       "\n",
       "    .dataframe thead th {\n",
       "        text-align: right;\n",
       "    }\n",
       "</style>\n",
       "<table border=\"1\" class=\"dataframe\">\n",
       "  <thead>\n",
       "    <tr style=\"text-align: right;\">\n",
       "      <th></th>\n",
       "      <th>precision</th>\n",
       "      <th>recall</th>\n",
       "      <th>f1-score</th>\n",
       "      <th>support</th>\n",
       "    </tr>\n",
       "  </thead>\n",
       "  <tbody>\n",
       "    <tr>\n",
       "      <th>0</th>\n",
       "      <td>0.484472</td>\n",
       "      <td>0.78000</td>\n",
       "      <td>0.597701</td>\n",
       "      <td>100.00000</td>\n",
       "    </tr>\n",
       "    <tr>\n",
       "      <th>1</th>\n",
       "      <td>0.413793</td>\n",
       "      <td>0.12000</td>\n",
       "      <td>0.186047</td>\n",
       "      <td>100.00000</td>\n",
       "    </tr>\n",
       "    <tr>\n",
       "      <th>2</th>\n",
       "      <td>0.400000</td>\n",
       "      <td>0.50000</td>\n",
       "      <td>0.444444</td>\n",
       "      <td>100.00000</td>\n",
       "    </tr>\n",
       "    <tr>\n",
       "      <th>3</th>\n",
       "      <td>0.493333</td>\n",
       "      <td>0.37000</td>\n",
       "      <td>0.422857</td>\n",
       "      <td>100.00000</td>\n",
       "    </tr>\n",
       "    <tr>\n",
       "      <th>4</th>\n",
       "      <td>0.482143</td>\n",
       "      <td>0.54000</td>\n",
       "      <td>0.509434</td>\n",
       "      <td>100.00000</td>\n",
       "    </tr>\n",
       "    <tr>\n",
       "      <th>...</th>\n",
       "      <td>...</td>\n",
       "      <td>...</td>\n",
       "      <td>...</td>\n",
       "      <td>...</td>\n",
       "    </tr>\n",
       "    <tr>\n",
       "      <th>97</th>\n",
       "      <td>0.141104</td>\n",
       "      <td>0.23000</td>\n",
       "      <td>0.174905</td>\n",
       "      <td>100.00000</td>\n",
       "    </tr>\n",
       "    <tr>\n",
       "      <th>98</th>\n",
       "      <td>0.303030</td>\n",
       "      <td>0.10000</td>\n",
       "      <td>0.150376</td>\n",
       "      <td>100.00000</td>\n",
       "    </tr>\n",
       "    <tr>\n",
       "      <th>accuracy</th>\n",
       "      <td>0.292020</td>\n",
       "      <td>0.29202</td>\n",
       "      <td>0.292020</td>\n",
       "      <td>0.29202</td>\n",
       "    </tr>\n",
       "    <tr>\n",
       "      <th>macro avg</th>\n",
       "      <td>0.286190</td>\n",
       "      <td>0.29202</td>\n",
       "      <td>0.270253</td>\n",
       "      <td>9900.00000</td>\n",
       "    </tr>\n",
       "    <tr>\n",
       "      <th>weighted avg</th>\n",
       "      <td>0.286190</td>\n",
       "      <td>0.29202</td>\n",
       "      <td>0.270253</td>\n",
       "      <td>9900.00000</td>\n",
       "    </tr>\n",
       "  </tbody>\n",
       "</table>\n",
       "<p>102 rows × 4 columns</p>\n",
       "</div>"
      ],
      "text/plain": [
       "              precision   recall  f1-score     support\n",
       "0              0.484472  0.78000  0.597701   100.00000\n",
       "1              0.413793  0.12000  0.186047   100.00000\n",
       "2              0.400000  0.50000  0.444444   100.00000\n",
       "3              0.493333  0.37000  0.422857   100.00000\n",
       "4              0.482143  0.54000  0.509434   100.00000\n",
       "...                 ...      ...       ...         ...\n",
       "97             0.141104  0.23000  0.174905   100.00000\n",
       "98             0.303030  0.10000  0.150376   100.00000\n",
       "accuracy       0.292020  0.29202  0.292020     0.29202\n",
       "macro avg      0.286190  0.29202  0.270253  9900.00000\n",
       "weighted avg   0.286190  0.29202  0.270253  9900.00000\n",
       "\n",
       "[102 rows x 4 columns]"
      ]
     },
     "execution_count": 53,
     "metadata": {},
     "output_type": "execute_result"
    }
   ],
   "source": [
    "# Assuming all_labels and all_preds are your true labels and predicted labels\n",
    "class_report = classification_report(all_labels, all_preds, digits=4, output_dict=True)\n",
    "\n",
    "# Convert the dictionary to a DataFrame\n",
    "class_report_df = pd.DataFrame(class_report).transpose()\n",
    "\n",
    "class_report_df.to_csv('df_test_class_report_classreg.csv', index=False)\n",
    "\n",
    "# Display the DataFrame\n",
    "class_report_df"
   ]
  },
  {
   "cell_type": "code",
   "execution_count": 54,
   "metadata": {},
   "outputs": [
    {
     "data": {
      "image/png": "[encoded data removed]",
      "text/plain": [
       "<Figure size 3000x2400 with 2 Axes>"
      ]
     },
     "metadata": {},
     "output_type": "display_data"
    }
   ],
   "source": [
    "# Assuming all_labels and all_preds are your true labels and predicted labels\n",
    "conf_matrix = confusion_matrix(all_labels, all_preds)\n",
    "\n",
    "# Plot the confusion matrix\n",
    "plt.figure(figsize=(10, 8))\n",
    "\n",
    "# Create the heatmap with no annotations and add color bar on the right\n",
    "sns.heatmap(conf_matrix, annot=False, cmap='Blues', cbar=True, cbar_kws={\"shrink\": 0.5})\n",
    "\n",
    "# Set the title and labels with reduced font sizes\n",
    "plt.title('Confusion Matrix', fontsize=12)\n",
    "plt.xlabel('Predicted Labels', fontsize=10)\n",
    "plt.ylabel('True Labels', fontsize=10)\n",
    "\n",
    "# Ensure tick labels are visible with reduced font size\n",
    "plt.xticks(fontsize=7)\n",
    "plt.yticks(fontsize=7)\n",
    "\n",
    "plt.show()"
   ]
  },
  {
   "cell_type": "markdown",
   "metadata": {
    "jp-MarkdownHeadingCollapsed": true,
    "tags": []
   },
   "source": [
    "### All at once"
   ]
  },
  {
   "cell_type": "code",
   "execution_count": 30,
   "metadata": {},
   "outputs": [
    {
     "name": "stdout",
     "output_type": "stream",
     "text": [
      "[1.50e-06 2.50e-06 3.50e-06 4.50e-06 5.50e-06 6.50e-06 7.50e-06 8.50e-06\n",
      " 9.50e-06 1.05e-05 1.15e-05 1.25e-05 1.35e-05 1.45e-05 1.55e-05 1.65e-05\n",
      " 1.75e-05 1.85e-05 1.95e-05 2.05e-05 2.15e-05 2.25e-05 2.35e-05 2.45e-05\n",
      " 2.55e-05 2.65e-05 2.75e-05 2.85e-05 2.95e-05 3.05e-05 3.15e-05 3.25e-05\n",
      " 3.35e-05 3.45e-05 3.55e-05 3.65e-05 3.75e-05 3.85e-05 3.95e-05 4.05e-05\n",
      " 4.15e-05 4.25e-05 4.35e-05 4.45e-05 4.55e-05 4.65e-05 4.75e-05 4.85e-05\n",
      " 4.95e-05 5.05e-05 5.15e-05 5.25e-05 5.35e-05 5.45e-05 5.55e-05 5.65e-05\n",
      " 5.75e-05 5.85e-05 5.95e-05 6.05e-05 6.15e-05 6.25e-05 6.35e-05 6.45e-05\n",
      " 6.55e-05 6.65e-05 6.75e-05 6.85e-05 6.95e-05 7.05e-05 7.15e-05 7.25e-05\n",
      " 7.35e-05 7.45e-05 7.55e-05 7.65e-05 7.75e-05 7.85e-05 7.95e-05 8.05e-05\n",
      " 8.15e-05 8.25e-05 8.35e-05 8.45e-05 8.55e-05 8.65e-05 8.75e-05 8.85e-05\n",
      " 8.95e-05 9.05e-05 9.15e-05 9.25e-05 9.35e-05 9.45e-05 9.55e-05 9.65e-05\n",
      " 9.75e-05 9.85e-05 9.95e-05]\n"
     ]
    }
   ],
   "source": [
    "# Given array\n",
    "k_list = np.linspace(1e-6, 1e-4, 100)\n",
    "\n",
    "# Initialize a list to store the averages\n",
    "k_mean = []\n",
    "\n",
    "# Loop through the array starting from the second element\n",
    "for i in range(1, len(k_list)):\n",
    "    mean = (k_list[i] + k_list[i-1]) / 2\n",
    "    k_mean.append(mean)\n",
    "\n",
    "# Convert the list to a numpy array (optional)\n",
    "k_mean = np.array(k_mean)\n",
    "\n",
    "print(k_mean)"
   ]
  },
  {
   "cell_type": "code",
   "execution_count": 31,
   "metadata": {},
   "outputs": [],
   "source": [
    "# Define the image transformations (same as used during training)\n",
    "transform = transforms.Compose([\n",
    "    transforms.Resize((224, 224)),\n",
    "    transforms.ToTensor(),\n",
    "    transforms.Normalize(mean=[0.485, 0.456, 0.406], std=[0.229, 0.224, 0.225]),\n",
    "])\n",
    "\n",
    "# Function to perform inference and get probabilities\n",
    "def predict_image(image_path, model, transform, device):\n",
    "    # Load and preprocess the image\n",
    "    image = Image.open(image_path).convert('RGB')\n",
    "    image = transform(image).unsqueeze(0)  # Add batch dimension\n",
    "    image = image.to(device)\n",
    "\n",
    "    # Perform inference\n",
    "    with torch.no_grad():\n",
    "        outputs = model(image)\n",
    "        probabilities = F.softmax(outputs, dim=1)  # Convert logits to probabilities\n",
    "        predicted_class = torch.argmax(probabilities, dim=1)\n",
    "\n",
    "    return predicted_class.item(), probabilities.cpu().numpy().flatten()\n",
    "\n",
    "def all_at_once(model_path):\n",
    "    \n",
    "    # Define the device\n",
    "    device = torch.device('cuda' if torch.cuda.is_available() else 'cpu')\n",
    "    print(f\"Using device: {device}\")\n",
    "\n",
    "    # Load the pretrained AlexNet model\n",
    "    model = alexnet(pretrained=True)\n",
    "\n",
    "    # Modify the classifier to output 18 classes\n",
    "    model.classifier[-1] = nn.Linear(in_features=4096, out_features=99)\n",
    "\n",
    "    # Load the model weights\n",
    "    model.load_state_dict(torch.load(model_path))\n",
    "    model.to(device)\n",
    "    model.eval()\n",
    "\n",
    "    # Initialize lists to store true labels, predictions, and k predictions\n",
    "    all_labels = []\n",
    "    all_preds = []\n",
    "    all_k_preds = []\n",
    "\n",
    "    with torch.no_grad():\n",
    "        for images, level_gts, k_gts in test_loader:\n",
    "            images = images.to(device)\n",
    "            level_gts = level_gts.to(device)\n",
    "            k_gts = k_gts.to(device).float().view(-1, 1)\n",
    "\n",
    "\n",
    "            outputs = model(images)\n",
    "\n",
    "            # Compute probabilities using softmax\n",
    "            probabilities = torch.nn.functional.softmax(outputs, dim=1).cpu().numpy()\n",
    "\n",
    "            # Predict class with max probability\n",
    "            _, preds = torch.max(outputs, 1)\n",
    "\n",
    "            # Compute k_predictions using np.dot(k_mean, probabilities) for each image\n",
    "            k_preds = np.dot(probabilities, k_mean)\n",
    "\n",
    "            all_labels.extend(level_gts.cpu().numpy())\n",
    "            all_preds.extend(preds.cpu().numpy())\n",
    "            all_k_preds.extend(k_preds)\n",
    "    \n",
    "    # Convert lists to numpy arrays\n",
    "    all_labels = np.array(all_labels)\n",
    "    all_preds = np.array(all_preds)\n",
    "    all_k_preds = np.array(all_k_preds)\n",
    "    df_test_report = df_test.copy(deep=True)\n",
    "    df_test_report[\"level_preds\"] = all_preds\n",
    "    df_test_report[\"k_gt\"] = df_test_full[\"k\"]\n",
    "    df_test_report[\"k_preds\"] = all_k_preds\n",
    "    df_test_report['percentage_error'] = 100 * abs(df_test_report['k_gt'] - df_test_report['k_preds']) / df_test_report['k_gt']\n",
    "\n",
    "    # Compute the average percentage error across all rows\n",
    "    average_percentage_error = df_test_report['percentage_error'].mean()\n",
    "\n",
    "    return round(average_percentage_error,4)"
   ]
  },
  {
   "cell_type": "code",
   "execution_count": 32,
   "metadata": {},
   "outputs": [
    {
     "name": "stdout",
     "output_type": "stream",
     "text": [
      "Using device: cuda\n"
     ]
    },
    {
     "name": "stderr",
     "output_type": "stream",
     "text": [
      "/usr/local/lib64/python3.7/site-packages/torchvision/models/_utils.py:209: UserWarning: The parameter 'pretrained' is deprecated since 0.13 and may be removed in the future, please use 'weights' instead.\n",
      "  f\"The parameter '{pretrained_param}' is deprecated since 0.13 and may be removed in the future, \"\n",
      "/usr/local/lib64/python3.7/site-packages/torchvision/models/_utils.py:223: UserWarning: Arguments other than a weight enum or `None` for 'weights' are deprecated since 0.13 and may be removed in the future. The current behavior is equivalent to passing `weights=AlexNet_Weights.IMAGENET1K_V1`. You can also use `weights=AlexNet_Weights.DEFAULT` to get the most up-to-date weights.\n",
      "  warnings.warn(msg)\n"
     ]
    },
    {
     "name": "stdout",
     "output_type": "stream",
     "text": [
      "Epoch 0: average_percentage_error = 6.5668\n",
      "Using device: cuda\n",
      "Epoch 1: average_percentage_error = 9.3945\n",
      "Using device: cuda\n",
      "Epoch 2: average_percentage_error = 7.7976\n",
      "Using device: cuda\n",
      "Epoch 3: average_percentage_error = 6.0817\n",
      "Using device: cuda\n",
      "Epoch 4: average_percentage_error = 6.5522\n",
      "Using device: cuda\n",
      "Epoch 5: average_percentage_error = 5.9065\n",
      "Using device: cuda\n",
      "Epoch 6: average_percentage_error = 5.6413\n",
      "Using device: cuda\n",
      "Epoch 7: average_percentage_error = 5.545\n",
      "Using device: cuda\n",
      "Epoch 8: average_percentage_error = 5.202\n",
      "Using device: cuda\n",
      "Epoch 9: average_percentage_error = 5.0876\n",
      "Using device: cuda\n",
      "Epoch 10: average_percentage_error = 4.8597\n",
      "Using device: cuda\n",
      "Epoch 11: average_percentage_error = 5.2407\n",
      "Using device: cuda\n",
      "Epoch 12: average_percentage_error = 5.1105\n",
      "Using device: cuda\n",
      "Epoch 13: average_percentage_error = 5.0477\n",
      "Using device: cuda\n",
      "Epoch 14: average_percentage_error = 4.6326\n",
      "Using device: cuda\n",
      "Epoch 15: average_percentage_error = 4.7596\n",
      "Using device: cuda\n",
      "Epoch 16: average_percentage_error = 4.5283\n",
      "Using device: cuda\n",
      "Epoch 17: average_percentage_error = 4.5637\n",
      "Using device: cuda\n",
      "Epoch 18: average_percentage_error = 5.0742\n",
      "Using device: cuda\n",
      "Epoch 19: average_percentage_error = 4.6679\n",
      "Using device: cuda\n",
      "Epoch 20: average_percentage_error = 4.493\n",
      "Using device: cuda\n",
      "Epoch 21: average_percentage_error = 4.6175\n",
      "Using device: cuda\n",
      "Epoch 22: average_percentage_error = 4.3891\n",
      "Using device: cuda\n",
      "Epoch 23: average_percentage_error = 4.4398\n",
      "Using device: cuda\n",
      "Epoch 24: average_percentage_error = 4.5786\n",
      "Using device: cuda\n",
      "Epoch 25: average_percentage_error = 4.587\n",
      "Using device: cuda\n",
      "Epoch 26: average_percentage_error = 4.3427\n",
      "Using device: cuda\n",
      "Epoch 27: average_percentage_error = 4.5865\n",
      "Using device: cuda\n",
      "Epoch 28: average_percentage_error = 4.4693\n",
      "Using device: cuda\n",
      "Epoch 29: average_percentage_error = 4.7735\n"
     ]
    },
    {
     "data": {
      "text/plain": [
       "[6.5668,\n",
       " 9.3945,\n",
       " 7.7976,\n",
       " 6.0817,\n",
       " 6.5522,\n",
       " 5.9065,\n",
       " 5.6413,\n",
       " 5.545,\n",
       " 5.202,\n",
       " 5.0876,\n",
       " 4.8597,\n",
       " 5.2407,\n",
       " 5.1105,\n",
       " 5.0477,\n",
       " 4.6326,\n",
       " 4.7596,\n",
       " 4.5283,\n",
       " 4.5637,\n",
       " 5.0742,\n",
       " 4.6679,\n",
       " 4.493,\n",
       " 4.6175,\n",
       " 4.3891,\n",
       " 4.4398,\n",
       " 4.5786,\n",
       " 4.587,\n",
       " 4.3427,\n",
       " 4.5865,\n",
       " 4.4693,\n",
       " 4.7735]"
      ]
     },
     "execution_count": 32,
     "metadata": {},
     "output_type": "execute_result"
    }
   ],
   "source": [
    "average_percentage_error_list = []\n",
    "\n",
    "for i in range(0,30):\n",
    "    model_path = f\"AlexNet_cuda_weights/classreg/alexnet_classreg_epoch_{i}.pth\"\n",
    "    average_percentage_error = all_at_once(model_path)\n",
    "    average_percentage_error_list.append(average_percentage_error)\n",
    "    print(f\"Epoch {i}: average_percentage_error = {average_percentage_error}\")\n",
    "\n",
    "average_percentage_error_list"
   ]
  },
  {
   "cell_type": "code",
   "execution_count": null,
   "metadata": {},
   "outputs": [],
   "source": []
  }
 ],
 "metadata": {
  "kernelspec": {
   "display_name": "Python 3 (ipykernel)",
   "language": "python",
   "name": "python3"
  },
  "language_info": {
   "codemirror_mode": {
    "name": "ipython",
    "version": 3
   },
   "file_extension": ".py",
   "mimetype": "text/x-python",
   "name": "python",
   "nbconvert_exporter": "python",
   "pygments_lexer": "ipython3",
   "version": "3.7.16"
  }
 },
 "nbformat": 4,
 "nbformat_minor": 4
}
