{
 "cells": [
  {
   "cell_type": "code",
   "execution_count": 1,
   "metadata": {},
   "outputs": [],
   "source": [
    "import os\n",
    "import pandas as pd\n",
    "from PIL import Image\n",
    "import torch\n",
    "import torch.nn as nn\n",
    "from torchvision import transforms\n",
    "from torch.utils.data import Dataset, DataLoader, Subset\n",
    "from torchvision.models import alexnet\n",
    "from torch.optim import Adam\n",
    "from sklearn.model_selection import train_test_split\n",
    "from tqdm import tqdm\n",
    "import torch.nn.functional as F\n",
    "from sklearn.metrics import classification_report, confusion_matrix\n",
    "import matplotlib.pyplot as plt\n",
    "import seaborn as sns\n",
    "import matplotlib as mpl\n",
    "import numpy as np"
   ]
  },
  {
   "cell_type": "code",
   "execution_count": 2,
   "metadata": {},
   "outputs": [],
   "source": [
    "mpl.rcParams['figure.dpi'] = 300\n",
    "sns.set_theme()\n",
    "sns.set_style(\"ticks\")"
   ]
  },
  {
   "cell_type": "markdown",
   "metadata": {},
   "source": [
    "# Training"
   ]
  },
  {
   "cell_type": "markdown",
   "metadata": {},
   "source": [
    "## Setup"
   ]
  },
  {
   "cell_type": "code",
   "execution_count": 43,
   "metadata": {},
   "outputs": [],
   "source": [
    "# Inputs\n",
    "\n",
    "df_train_path = 'df_train.csv'\n",
    "df_val_path  = 'df_val.csv'\n",
    "df_test_path  = 'df_test.csv'\n",
    "distort_img_path = 'distorted_crosswalk_images_crop'\n",
    "num_epochs_for_today = 10\n",
    "checkpoint_path = 'AlexNet_cuda_weights/AlexNet_Classify_Checkpoint.pth.tar'"
   ]
  },
  {
   "cell_type": "code",
   "execution_count": 52,
   "metadata": {},
   "outputs": [],
   "source": [
    "df_train_full = pd.read_csv(df_train_path)\n",
    "df_val_full = pd.read_csv(df_val_path)\n",
    "df_test_full = pd.read_csv(df_test_path)\n",
    "\n",
    "df_train = df_train_full[[\"id2\",\"level\"]]\n",
    "df_val = df_val_full[[\"id2\",\"level\"]]\n",
    "df_test = df_test_full[[\"id2\",\"level\"]]\n",
    "df_test_with_id1 = df_test_full[[\"id1\",\"id2\",\"level\"]]"
   ]
  },
  {
   "cell_type": "code",
   "execution_count": 53,
   "metadata": {},
   "outputs": [],
   "source": [
    "# Define the Data Transformations\n",
    "transform = transforms.Compose([\n",
    "    transforms.Resize((224, 224)),\n",
    "    transforms.ToTensor(),\n",
    "    transforms.Normalize(mean=[0.485, 0.456, 0.406], std=[0.229, 0.224, 0.225]),\n",
    "])\n",
    "\n",
    "# Create the Custom Dataset Class\n",
    "class CrosswayDataset(Dataset):\n",
    "    def __init__(self, dataframe, root_dir, transform=None):\n",
    "        self.dataframe = dataframe\n",
    "        self.root_dir = root_dir\n",
    "        self.transform = transform\n",
    "\n",
    "    def __len__(self):\n",
    "        return len(self.dataframe)\n",
    "\n",
    "    def __getitem__(self, idx):\n",
    "        img_name = os.path.join(self.root_dir, str(self.dataframe.iloc[idx, 0]) + '.jpg')\n",
    "        image = Image.open(img_name).convert('RGB')\n",
    "        label = int(self.dataframe.iloc[idx, 1])\n",
    "        \n",
    "        if self.transform:\n",
    "            image = self.transform(image)\n",
    "        \n",
    "        return image, label\n",
    "    \n",
    "def load_checkpoint(filename):\n",
    "    checkpoint = torch.load(filename)\n",
    "    model.load_state_dict(checkpoint['model_state'])\n",
    "    optimizer.load_state_dict(checkpoint['optimizer_state'])\n",
    "    start_epoch = checkpoint['epoch']\n",
    "    return start_epoch"
   ]
  },
  {
   "cell_type": "code",
   "execution_count": 54,
   "metadata": {},
   "outputs": [],
   "source": [
    "# Create Dataset Objects and DataLoaders\n",
    "train_dataset = CrosswayDataset(dataframe=df_train, root_dir=distort_img_path, transform=transform)\n",
    "val_dataset = CrosswayDataset(dataframe=df_val, root_dir=distort_img_path, transform=transform)\n",
    "test_dataset = CrosswayDataset(dataframe=df_test, root_dir=distort_img_path, transform=transform)\n",
    "\n",
    "train_loader = DataLoader(train_dataset, batch_size=32, shuffle=True)\n",
    "val_loader = DataLoader(val_dataset, batch_size=32, shuffle=False)\n",
    "test_loader = DataLoader(test_dataset, batch_size=32, shuffle=False)"
   ]
  },
  {
   "cell_type": "markdown",
   "metadata": {
    "tags": []
   },
   "source": [
    "## Begin training"
   ]
  },
  {
   "cell_type": "code",
   "execution_count": 1,
   "metadata": {},
   "outputs": [],
   "source": [
    "# Load the pretrained AlexNet model\n",
    "model = alexnet(pretrained=True)\n",
    "\n",
    "# Modify the classifier to output 99 classes\n",
    "model.classifier[-1] = nn.Linear(in_features=4096, out_features=99)\n",
    "\n",
    "# Move the model to the GPU if available\n",
    "device = torch.device('cuda' if torch.cuda.is_available() else 'cpu')\n",
    "print(f\"Using device: {device}\")  # Add this line to check if GPU is being used\n",
    "\n",
    "model.to(device)\n",
    "\n",
    "# Loss function and optimizer\n",
    "criterion = nn.CrossEntropyLoss()\n",
    "optimizer = Adam(model.parameters(), lr=1e-4)\n",
    "\n",
    "# Load checkpoint if it exists\n",
    "if os.path.exists(checkpoint_path):\n",
    "    start_epoch = load_checkpoint(checkpoint_path)\n",
    "    print(f\"Resuming training from epoch {start_epoch + 1}\")\n",
    "else:\n",
    "    start_epoch = 0\n",
    "\n",
    "# Training loop\n",
    "num_epochs = start_epoch + num_epochs_for_today\n",
    "\n",
    "training_loss_list = []\n",
    "validation_loss_list = []\n",
    "\n",
    "for epoch in range(start_epoch, num_epochs):\n",
    "    model.train()\n",
    "    running_loss = 0.0\n",
    "    \n",
    "    # Training phase\n",
    "    progress_bar = tqdm(train_loader, desc=f\"Epoch {epoch+1}/{num_epochs} [Training]\", leave=False)\n",
    "    for images, labels in progress_bar:\n",
    "        images = images.to(device)\n",
    "        labels = labels.to(device)\n",
    "\n",
    "        # Forward pass\n",
    "        outputs = model(images)\n",
    "        loss = criterion(outputs, labels)\n",
    "\n",
    "        # Backward pass and optimization\n",
    "        optimizer.zero_grad()\n",
    "        loss.backward()\n",
    "        optimizer.step()\n",
    "\n",
    "        running_loss += loss.item() * images.size(0)\n",
    "        \n",
    "        # Update the progress bar\n",
    "        progress_bar.set_postfix(loss=loss.item())\n",
    "\n",
    "    epoch_loss = running_loss / len(train_dataset)\n",
    "    training_loss_list.append(epoch_loss)\n",
    "    print(f'Epoch [{epoch+1}/{num_epochs}] Training Loss: {epoch_loss:.4f}')\n",
    "    \n",
    "    # Validation phase\n",
    "    model.eval()\n",
    "    val_loss = 0.0\n",
    "    with torch.no_grad():\n",
    "        progress_bar = tqdm(val_loader, desc=f\"Epoch {epoch+1}/{num_epochs} [Validation]\", leave=False)\n",
    "        for images, labels in progress_bar:\n",
    "            images = images.to(device)\n",
    "            labels = labels.to(device)\n",
    "\n",
    "            # Forward pass\n",
    "            outputs = model(images)\n",
    "            loss = criterion(outputs, labels)\n",
    "\n",
    "            val_loss += loss.item() * images.size(0)\n",
    "            \n",
    "            # Update the progress bar\n",
    "            progress_bar.set_postfix(loss=loss.item())\n",
    "    \n",
    "    val_loss /= len(val_dataset)\n",
    "    validation_loss_list.append(val_loss)\n",
    "    print(f'Epoch [{epoch+1}/{num_epochs}] Validation Loss: {val_loss:.4f}')\n",
    "    \n",
    "    # Save the model and optimizer states for this epoch\n",
    "    checkpoint = {\n",
    "        'epoch': epoch + 1,\n",
    "        'model_state': model.state_dict(),\n",
    "        'optimizer_state': optimizer.state_dict()\n",
    "    }\n",
    "    torch.save(checkpoint, checkpoint_path)\n",
    "    print(f\"Checkpoint saved at epoch {epoch+1}\")\n",
    "\n",
    "    # Save the model weights separately for this epoch \n",
    "    model_save_path = os.path.join(f'AlexNet_cuda_weights/classi/alexnet_classi_epoch_{epoch}.pth') #############################################\n",
    "    torch.save(model.state_dict(), model_save_path)\n",
    "    print(f'Model saved to {model_save_path}')"
   ]
  },
  {
   "cell_type": "markdown",
   "metadata": {
    "tags": []
   },
   "source": [
    "# Inference"
   ]
  },
  {
   "cell_type": "code",
   "execution_count": 55,
   "metadata": {},
   "outputs": [
    {
     "name": "stdout",
     "output_type": "stream",
     "text": [
      "Using device: cuda\n"
     ]
    },
    {
     "data": {
      "text/plain": [
       "AlexNet(\n",
       "  (features): Sequential(\n",
       "    (0): Conv2d(3, 64, kernel_size=(11, 11), stride=(4, 4), padding=(2, 2))\n",
       "    (1): ReLU(inplace=True)\n",
       "    (2): MaxPool2d(kernel_size=3, stride=2, padding=0, dilation=1, ceil_mode=False)\n",
       "    (3): Conv2d(64, 192, kernel_size=(5, 5), stride=(1, 1), padding=(2, 2))\n",
       "    (4): ReLU(inplace=True)\n",
       "    (5): MaxPool2d(kernel_size=3, stride=2, padding=0, dilation=1, ceil_mode=False)\n",
       "    (6): Conv2d(192, 384, kernel_size=(3, 3), stride=(1, 1), padding=(1, 1))\n",
       "    (7): ReLU(inplace=True)\n",
       "    (8): Conv2d(384, 256, kernel_size=(3, 3), stride=(1, 1), padding=(1, 1))\n",
       "    (9): ReLU(inplace=True)\n",
       "    (10): Conv2d(256, 256, kernel_size=(3, 3), stride=(1, 1), padding=(1, 1))\n",
       "    (11): ReLU(inplace=True)\n",
       "    (12): MaxPool2d(kernel_size=3, stride=2, padding=0, dilation=1, ceil_mode=False)\n",
       "  )\n",
       "  (avgpool): AdaptiveAvgPool2d(output_size=(6, 6))\n",
       "  (classifier): Sequential(\n",
       "    (0): Dropout(p=0.5, inplace=False)\n",
       "    (1): Linear(in_features=9216, out_features=4096, bias=True)\n",
       "    (2): ReLU(inplace=True)\n",
       "    (3): Dropout(p=0.5, inplace=False)\n",
       "    (4): Linear(in_features=4096, out_features=4096, bias=True)\n",
       "    (5): ReLU(inplace=True)\n",
       "    (6): Linear(in_features=4096, out_features=99, bias=True)\n",
       "  )\n",
       ")"
      ]
     },
     "execution_count": 55,
     "metadata": {},
     "output_type": "execute_result"
    }
   ],
   "source": [
    "# Define the device\n",
    "device = torch.device('cuda' if torch.cuda.is_available() else 'cpu')\n",
    "print(f\"Using device: {device}\")\n",
    "\n",
    "# Load the pretrained AlexNet model\n",
    "model = alexnet(pretrained=True)\n",
    "\n",
    "# Modify the classifier to output 18 classes\n",
    "model.classifier[-1] = nn.Linear(in_features=4096, out_features=99)\n",
    "\n",
    "# Load the model weights\n",
    "model_path = 'AlexNet_cuda_weights/classi/alexnet_classi_epoch_21.pth'  ############# Select your trained model weights\n",
    "model.load_state_dict(torch.load(model_path))\n",
    "model.to(device)\n",
    "model.eval()"
   ]
  },
  {
   "cell_type": "markdown",
   "metadata": {
    "tags": []
   },
   "source": [
    "## Testing on 1 image"
   ]
  },
  {
   "cell_type": "code",
   "execution_count": 56,
   "metadata": {},
   "outputs": [],
   "source": [
    "# Define the image transformations (same as used during training)\n",
    "transform = transforms.Compose([\n",
    "    transforms.Resize((224, 224)),\n",
    "    transforms.ToTensor(),\n",
    "    transforms.Normalize(mean=[0.485, 0.456, 0.406], std=[0.229, 0.224, 0.225]),\n",
    "])\n",
    "\n",
    "# Function to perform inference and get probabilities\n",
    "def predict_image(image_path, model, transform, device):\n",
    "    # Load and preprocess the image\n",
    "    image = Image.open(image_path).convert('RGB')\n",
    "    image = transform(image).unsqueeze(0)  # Add batch dimension\n",
    "    image = image.to(device)\n",
    "\n",
    "    # Perform inference\n",
    "    with torch.no_grad():\n",
    "        outputs = model(image)\n",
    "        probabilities = F.softmax(outputs, dim=1)  # Convert logits to probabilities\n",
    "        predicted_class = torch.argmax(probabilities, dim=1)\n",
    "\n",
    "    return predicted_class.item(), probabilities.cpu().numpy().flatten()"
   ]
  },
  {
   "cell_type": "code",
   "execution_count": 57,
   "metadata": {},
   "outputs": [
    {
     "name": "stdout",
     "output_type": "stream",
     "text": [
      "Ground truth class: 76\n",
      "Predicted class: 77\n",
      "Probabilities for each class: [5.3206947e-21 2.5467982e-21 1.3011148e-21 2.2899377e-22 3.3068052e-23\n",
      " 3.4685308e-23 3.6040470e-23 1.4175054e-23 1.6821416e-23 2.4668941e-24\n",
      " 8.1782737e-23 5.8056389e-23 5.4932278e-24 8.5772610e-24 1.3759284e-23\n",
      " 4.8290622e-23 9.8138721e-23 2.4098244e-22 2.3321384e-22 1.1081698e-22\n",
      " 9.8521703e-23 5.0567640e-22 1.6772480e-21 3.9292680e-22 1.5256719e-22\n",
      " 4.4553472e-23 9.7790795e-23 1.6996547e-22 3.3637524e-23 1.9851584e-22\n",
      " 1.3175314e-22 7.2312733e-23 3.7589000e-22 2.2239758e-22 2.3128690e-22\n",
      " 7.9963894e-22 2.7449149e-21 8.8621134e-21 6.1436429e-21 7.6715347e-22\n",
      " 6.9398911e-21 1.0641369e-21 1.3305276e-21 1.8762292e-22 2.9243425e-22\n",
      " 7.9778305e-23 7.2110225e-24 3.4547053e-23 1.8289453e-23 5.5703977e-24\n",
      " 3.1227823e-22 6.8681361e-25 1.6694452e-24 1.2376558e-27 7.6144661e-25\n",
      " 1.0232410e-22 2.6383177e-22 1.5834815e-19 4.9947184e-17 1.1835834e-13\n",
      " 1.9428778e-11 8.9155808e-15 6.0801391e-08 2.8280303e-07 1.3978851e-10\n",
      " 2.1988826e-03 1.4053856e-04 4.9033501e-06 1.8130893e-01 5.2493934e-02\n",
      " 3.0842416e-03 1.3784806e-02 1.3705191e-01 2.4945293e-01 2.2542771e-02\n",
      " 2.7853428e-04 8.3886972e-03 3.2673192e-01 2.7622158e-09 1.9582572e-08\n",
      " 1.0374134e-04 2.4328448e-03 1.3022138e-11 1.8519605e-10 1.7177541e-09\n",
      " 2.8414703e-08 2.9536229e-13 1.2408848e-12 8.9320776e-14 4.6084647e-17\n",
      " 1.0686137e-17 7.0879942e-17 2.5484692e-14 4.8164978e-15 3.7232710e-19\n",
      " 1.3554878e-20 1.6593912e-20 4.6992467e-19 4.6752174e-18]\n"
     ]
    }
   ],
   "source": [
    "# Path to the image you want to infer\n",
    "test_img_path = os.path.join(distort_img_path, str(df_test.iloc[0, 0]) + '.jpg')\n",
    "\n",
    "# Perform inference\n",
    "predicted_class, probabilities = predict_image(test_img_path, model, transform, device)\n",
    "\n",
    "# Print the predicted class and probabilities\n",
    "print(f'Ground truth class: {df_test.iloc[0,1]}')\n",
    "print(f'Predicted class: {predicted_class}')\n",
    "print(f'Probabilities for each class: {probabilities}')"
   ]
  },
  {
   "cell_type": "markdown",
   "metadata": {
    "tags": []
   },
   "source": [
    "## Testing on `test_loader`"
   ]
  },
  {
   "cell_type": "markdown",
   "metadata": {
    "tags": []
   },
   "source": [
    "### Predicted levels, Predicted k, Percentage error"
   ]
  },
  {
   "cell_type": "code",
   "execution_count": 58,
   "metadata": {},
   "outputs": [
    {
     "data": {
      "text/plain": [
       "<torch.utils.data.dataloader.DataLoader at 0x7f1d662085d0>"
      ]
     },
     "execution_count": 58,
     "metadata": {},
     "output_type": "execute_result"
    }
   ],
   "source": [
    "test_loader"
   ]
  },
  {
   "cell_type": "code",
   "execution_count": 59,
   "metadata": {},
   "outputs": [
    {
     "name": "stdout",
     "output_type": "stream",
     "text": [
      "[1.50e-06 2.50e-06 3.50e-06 4.50e-06 5.50e-06 6.50e-06 7.50e-06 8.50e-06\n",
      " 9.50e-06 1.05e-05 1.15e-05 1.25e-05 1.35e-05 1.45e-05 1.55e-05 1.65e-05\n",
      " 1.75e-05 1.85e-05 1.95e-05 2.05e-05 2.15e-05 2.25e-05 2.35e-05 2.45e-05\n",
      " 2.55e-05 2.65e-05 2.75e-05 2.85e-05 2.95e-05 3.05e-05 3.15e-05 3.25e-05\n",
      " 3.35e-05 3.45e-05 3.55e-05 3.65e-05 3.75e-05 3.85e-05 3.95e-05 4.05e-05\n",
      " 4.15e-05 4.25e-05 4.35e-05 4.45e-05 4.55e-05 4.65e-05 4.75e-05 4.85e-05\n",
      " 4.95e-05 5.05e-05 5.15e-05 5.25e-05 5.35e-05 5.45e-05 5.55e-05 5.65e-05\n",
      " 5.75e-05 5.85e-05 5.95e-05 6.05e-05 6.15e-05 6.25e-05 6.35e-05 6.45e-05\n",
      " 6.55e-05 6.65e-05 6.75e-05 6.85e-05 6.95e-05 7.05e-05 7.15e-05 7.25e-05\n",
      " 7.35e-05 7.45e-05 7.55e-05 7.65e-05 7.75e-05 7.85e-05 7.95e-05 8.05e-05\n",
      " 8.15e-05 8.25e-05 8.35e-05 8.45e-05 8.55e-05 8.65e-05 8.75e-05 8.85e-05\n",
      " 8.95e-05 9.05e-05 9.15e-05 9.25e-05 9.35e-05 9.45e-05 9.55e-05 9.65e-05\n",
      " 9.75e-05 9.85e-05 9.95e-05]\n"
     ]
    }
   ],
   "source": [
    "# Given array\n",
    "k_list = np.linspace(1e-6, 1e-4, 100)\n",
    "\n",
    "# Initialize a list to store the averages\n",
    "k_mean = []\n",
    "\n",
    "# Loop through the array starting from the second element\n",
    "for i in range(1, len(k_list)):\n",
    "    mean = (k_list[i] + k_list[i-1]) / 2\n",
    "    k_mean.append(mean)\n",
    "\n",
    "# Convert the list to a numpy array (optional)\n",
    "k_mean = np.array(k_mean)\n",
    "\n",
    "print(k_mean)"
   ]
  },
  {
   "cell_type": "code",
   "execution_count": 60,
   "metadata": {},
   "outputs": [],
   "source": [
    "# Assuming the model is already loaded and test_dataset is defined\n",
    "model.eval()\n",
    "\n",
    "# Initialize lists to store true labels, predictions, and k predictions\n",
    "all_labels = []\n",
    "all_preds = []\n",
    "all_k_preds = []\n",
    "\n",
    "# Inference on the test dataset\n",
    "with torch.no_grad():\n",
    "    for images, labels in test_loader:\n",
    "        images = images.to(device)\n",
    "        labels = labels.to(device)\n",
    "\n",
    "        outputs = model(images)\n",
    "        \n",
    "        # Compute probabilities using softmax\n",
    "        probabilities = torch.nn.functional.softmax(outputs, dim=1).cpu().numpy()\n",
    "\n",
    "        # Predict class with max probability\n",
    "        _, preds = torch.max(outputs, 1)\n",
    "\n",
    "        # Compute k_predictions using np.dot(k_mean, probabilities) for each image\n",
    "        k_preds = np.dot(probabilities, k_mean)\n",
    "\n",
    "        all_labels.extend(labels.cpu().numpy())\n",
    "        all_preds.extend(preds.cpu().numpy())\n",
    "        all_k_preds.extend(k_preds)"
   ]
  },
  {
   "cell_type": "code",
   "execution_count": 61,
   "metadata": {},
   "outputs": [],
   "source": [
    "# Convert lists to numpy arrays\n",
    "all_labels = np.array(all_labels)\n",
    "all_preds = np.array(all_preds)\n",
    "all_k_preds = np.array(all_k_preds)"
   ]
  },
  {
   "cell_type": "code",
   "execution_count": 62,
   "metadata": {},
   "outputs": [],
   "source": [
    "df_test_report = df_test_with_id1.copy(deep=True)\n",
    "df_test_report[\"level_preds\"] = all_preds\n",
    "df_test_report[\"k_gt\"] = df_test_full[\"k\"]\n",
    "df_test_report[\"k_preds\"] = all_k_preds"
   ]
  },
  {
   "cell_type": "code",
   "execution_count": 63,
   "metadata": {},
   "outputs": [
    {
     "name": "stdout",
     "output_type": "stream",
     "text": [
      "average_percentage_error = 4.570586075843369\n"
     ]
    },
    {
     "data": {
      "text/html": [
       "<div>\n",
       "<style scoped>\n",
       "    .dataframe tbody tr th:only-of-type {\n",
       "        vertical-align: middle;\n",
       "    }\n",
       "\n",
       "    .dataframe tbody tr th {\n",
       "        vertical-align: top;\n",
       "    }\n",
       "\n",
       "    .dataframe thead th {\n",
       "        text-align: right;\n",
       "    }\n",
       "</style>\n",
       "<table border=\"1\" class=\"dataframe\">\n",
       "  <thead>\n",
       "    <tr style=\"text-align: right;\">\n",
       "      <th></th>\n",
       "      <th>id1</th>\n",
       "      <th>id2</th>\n",
       "      <th>level</th>\n",
       "      <th>level_preds</th>\n",
       "      <th>k_gt</th>\n",
       "      <th>k_preds</th>\n",
       "      <th>percentage_error</th>\n",
       "    </tr>\n",
       "  </thead>\n",
       "  <tbody>\n",
       "    <tr>\n",
       "      <th>0</th>\n",
       "      <td>1000673</td>\n",
       "      <td>2066703</td>\n",
       "      <td>76</td>\n",
       "      <td>77</td>\n",
       "      <td>0.000078</td>\n",
       "      <td>0.000075</td>\n",
       "      <td>4.036056</td>\n",
       "    </tr>\n",
       "    <tr>\n",
       "      <th>1</th>\n",
       "      <td>1000756</td>\n",
       "      <td>2074905</td>\n",
       "      <td>61</td>\n",
       "      <td>64</td>\n",
       "      <td>0.000062</td>\n",
       "      <td>0.000064</td>\n",
       "      <td>1.859140</td>\n",
       "    </tr>\n",
       "    <tr>\n",
       "      <th>2</th>\n",
       "      <td>1000222</td>\n",
       "      <td>2022038</td>\n",
       "      <td>60</td>\n",
       "      <td>63</td>\n",
       "      <td>0.000061</td>\n",
       "      <td>0.000065</td>\n",
       "      <td>6.057480</td>\n",
       "    </tr>\n",
       "    <tr>\n",
       "      <th>3</th>\n",
       "      <td>1000612</td>\n",
       "      <td>2060686</td>\n",
       "      <td>98</td>\n",
       "      <td>86</td>\n",
       "      <td>0.000100</td>\n",
       "      <td>0.000089</td>\n",
       "      <td>10.484807</td>\n",
       "    </tr>\n",
       "    <tr>\n",
       "      <th>4</th>\n",
       "      <td>1000041</td>\n",
       "      <td>2004094</td>\n",
       "      <td>35</td>\n",
       "      <td>35</td>\n",
       "      <td>0.000036</td>\n",
       "      <td>0.000037</td>\n",
       "      <td>1.889378</td>\n",
       "    </tr>\n",
       "    <tr>\n",
       "      <th>...</th>\n",
       "      <td>...</td>\n",
       "      <td>...</td>\n",
       "      <td>...</td>\n",
       "      <td>...</td>\n",
       "      <td>...</td>\n",
       "      <td>...</td>\n",
       "      <td>...</td>\n",
       "    </tr>\n",
       "    <tr>\n",
       "      <th>9895</th>\n",
       "      <td>1000220</td>\n",
       "      <td>2021815</td>\n",
       "      <td>35</td>\n",
       "      <td>35</td>\n",
       "      <td>0.000037</td>\n",
       "      <td>0.000037</td>\n",
       "      <td>1.608561</td>\n",
       "    </tr>\n",
       "    <tr>\n",
       "      <th>9896</th>\n",
       "      <td>1000661</td>\n",
       "      <td>2065463</td>\n",
       "      <td>24</td>\n",
       "      <td>25</td>\n",
       "      <td>0.000025</td>\n",
       "      <td>0.000027</td>\n",
       "      <td>5.484099</td>\n",
       "    </tr>\n",
       "    <tr>\n",
       "      <th>9897</th>\n",
       "      <td>1000118</td>\n",
       "      <td>2011739</td>\n",
       "      <td>57</td>\n",
       "      <td>56</td>\n",
       "      <td>0.000058</td>\n",
       "      <td>0.000057</td>\n",
       "      <td>1.644265</td>\n",
       "    </tr>\n",
       "    <tr>\n",
       "      <th>9898</th>\n",
       "      <td>1000182</td>\n",
       "      <td>2018046</td>\n",
       "      <td>28</td>\n",
       "      <td>29</td>\n",
       "      <td>0.000030</td>\n",
       "      <td>0.000030</td>\n",
       "      <td>1.525673</td>\n",
       "    </tr>\n",
       "    <tr>\n",
       "      <th>9899</th>\n",
       "      <td>1000717</td>\n",
       "      <td>2071075</td>\n",
       "      <td>92</td>\n",
       "      <td>91</td>\n",
       "      <td>0.000093</td>\n",
       "      <td>0.000094</td>\n",
       "      <td>1.444588</td>\n",
       "    </tr>\n",
       "  </tbody>\n",
       "</table>\n",
       "<p>9900 rows × 7 columns</p>\n",
       "</div>"
      ],
      "text/plain": [
       "          id1      id2  level  level_preds      k_gt   k_preds  \\\n",
       "0     1000673  2066703     76           77  0.000078  0.000075   \n",
       "1     1000756  2074905     61           64  0.000062  0.000064   \n",
       "2     1000222  2022038     60           63  0.000061  0.000065   \n",
       "3     1000612  2060686     98           86  0.000100  0.000089   \n",
       "4     1000041  2004094     35           35  0.000036  0.000037   \n",
       "...       ...      ...    ...          ...       ...       ...   \n",
       "9895  1000220  2021815     35           35  0.000037  0.000037   \n",
       "9896  1000661  2065463     24           25  0.000025  0.000027   \n",
       "9897  1000118  2011739     57           56  0.000058  0.000057   \n",
       "9898  1000182  2018046     28           29  0.000030  0.000030   \n",
       "9899  1000717  2071075     92           91  0.000093  0.000094   \n",
       "\n",
       "      percentage_error  \n",
       "0             4.036056  \n",
       "1             1.859140  \n",
       "2             6.057480  \n",
       "3            10.484807  \n",
       "4             1.889378  \n",
       "...                ...  \n",
       "9895          1.608561  \n",
       "9896          5.484099  \n",
       "9897          1.644265  \n",
       "9898          1.525673  \n",
       "9899          1.444588  \n",
       "\n",
       "[9900 rows x 7 columns]"
      ]
     },
     "execution_count": 63,
     "metadata": {},
     "output_type": "execute_result"
    }
   ],
   "source": [
    "# Calculate the percentage error for each row\n",
    "df_test_report['percentage_error'] = 100 * abs(df_test_report['k_gt'] - df_test_report['k_preds']) / df_test_report['k_gt']\n",
    "\n",
    "# Compute the average percentage error across all rows\n",
    "average_percentage_error = df_test_report['percentage_error'].mean()\n",
    "\n",
    "print(\"average_percentage_error =\", average_percentage_error)\n",
    "\n",
    "df_test_report.to_csv('df_test_report.csv', index=False)\n",
    "\n",
    "df_test_report"
   ]
  },
  {
   "cell_type": "markdown",
   "metadata": {
    "tags": []
   },
   "source": [
    "### Classification Report, Confusion Matrix"
   ]
  },
  {
   "cell_type": "code",
   "execution_count": 33,
   "metadata": {},
   "outputs": [
    {
     "data": {
      "text/html": [
       "<div>\n",
       "<style scoped>\n",
       "    .dataframe tbody tr th:only-of-type {\n",
       "        vertical-align: middle;\n",
       "    }\n",
       "\n",
       "    .dataframe tbody tr th {\n",
       "        vertical-align: top;\n",
       "    }\n",
       "\n",
       "    .dataframe thead th {\n",
       "        text-align: right;\n",
       "    }\n",
       "</style>\n",
       "<table border=\"1\" class=\"dataframe\">\n",
       "  <thead>\n",
       "    <tr style=\"text-align: right;\">\n",
       "      <th></th>\n",
       "      <th>precision</th>\n",
       "      <th>recall</th>\n",
       "      <th>f1-score</th>\n",
       "      <th>support</th>\n",
       "    </tr>\n",
       "  </thead>\n",
       "  <tbody>\n",
       "    <tr>\n",
       "      <th>0</th>\n",
       "      <td>0.581818</td>\n",
       "      <td>0.320000</td>\n",
       "      <td>0.412903</td>\n",
       "      <td>100.000000</td>\n",
       "    </tr>\n",
       "    <tr>\n",
       "      <th>1</th>\n",
       "      <td>0.367188</td>\n",
       "      <td>0.470000</td>\n",
       "      <td>0.412281</td>\n",
       "      <td>100.000000</td>\n",
       "    </tr>\n",
       "    <tr>\n",
       "      <th>2</th>\n",
       "      <td>0.416667</td>\n",
       "      <td>0.400000</td>\n",
       "      <td>0.408163</td>\n",
       "      <td>100.000000</td>\n",
       "    </tr>\n",
       "    <tr>\n",
       "      <th>3</th>\n",
       "      <td>0.540984</td>\n",
       "      <td>0.660000</td>\n",
       "      <td>0.594595</td>\n",
       "      <td>100.000000</td>\n",
       "    </tr>\n",
       "    <tr>\n",
       "      <th>4</th>\n",
       "      <td>0.444444</td>\n",
       "      <td>0.480000</td>\n",
       "      <td>0.461538</td>\n",
       "      <td>100.000000</td>\n",
       "    </tr>\n",
       "    <tr>\n",
       "      <th>...</th>\n",
       "      <td>...</td>\n",
       "      <td>...</td>\n",
       "      <td>...</td>\n",
       "      <td>...</td>\n",
       "    </tr>\n",
       "    <tr>\n",
       "      <th>97</th>\n",
       "      <td>0.176471</td>\n",
       "      <td>0.240000</td>\n",
       "      <td>0.203390</td>\n",
       "      <td>100.000000</td>\n",
       "    </tr>\n",
       "    <tr>\n",
       "      <th>98</th>\n",
       "      <td>0.100000</td>\n",
       "      <td>0.090000</td>\n",
       "      <td>0.094737</td>\n",
       "      <td>100.000000</td>\n",
       "    </tr>\n",
       "    <tr>\n",
       "      <th>accuracy</th>\n",
       "      <td>0.319293</td>\n",
       "      <td>0.319293</td>\n",
       "      <td>0.319293</td>\n",
       "      <td>0.319293</td>\n",
       "    </tr>\n",
       "    <tr>\n",
       "      <th>macro avg</th>\n",
       "      <td>0.310927</td>\n",
       "      <td>0.319293</td>\n",
       "      <td>0.301664</td>\n",
       "      <td>9900.000000</td>\n",
       "    </tr>\n",
       "    <tr>\n",
       "      <th>weighted avg</th>\n",
       "      <td>0.310927</td>\n",
       "      <td>0.319293</td>\n",
       "      <td>0.301664</td>\n",
       "      <td>9900.000000</td>\n",
       "    </tr>\n",
       "  </tbody>\n",
       "</table>\n",
       "<p>102 rows × 4 columns</p>\n",
       "</div>"
      ],
      "text/plain": [
       "              precision    recall  f1-score      support\n",
       "0              0.581818  0.320000  0.412903   100.000000\n",
       "1              0.367188  0.470000  0.412281   100.000000\n",
       "2              0.416667  0.400000  0.408163   100.000000\n",
       "3              0.540984  0.660000  0.594595   100.000000\n",
       "4              0.444444  0.480000  0.461538   100.000000\n",
       "...                 ...       ...       ...          ...\n",
       "97             0.176471  0.240000  0.203390   100.000000\n",
       "98             0.100000  0.090000  0.094737   100.000000\n",
       "accuracy       0.319293  0.319293  0.319293     0.319293\n",
       "macro avg      0.310927  0.319293  0.301664  9900.000000\n",
       "weighted avg   0.310927  0.319293  0.301664  9900.000000\n",
       "\n",
       "[102 rows x 4 columns]"
      ]
     },
     "execution_count": 33,
     "metadata": {},
     "output_type": "execute_result"
    }
   ],
   "source": [
    "# Assuming all_labels and all_preds are your true labels and predicted labels\n",
    "class_report = classification_report(all_labels, all_preds, digits=4, output_dict=True)\n",
    "\n",
    "# Convert the dictionary to a DataFrame\n",
    "class_report_df = pd.DataFrame(class_report).transpose()\n",
    "\n",
    "class_report_df.to_csv('df_test_class_report.csv', index=False)\n",
    "\n",
    "# Display the DataFrame\n",
    "class_report_df"
   ]
  },
  {
   "cell_type": "code",
   "execution_count": 36,
   "metadata": {},
   "outputs": [
    {
     "data": {
      "image/png": "[encoded data removed]",
      "text/plain": [
       "<Figure size 3000x2400 with 2 Axes>"
      ]
     },
     "metadata": {},
     "output_type": "display_data"
    }
   ],
   "source": [
    "# Assuming all_labels and all_preds are your true labels and predicted labels\n",
    "conf_matrix = confusion_matrix(all_labels, all_preds)\n",
    "\n",
    "# Plot the confusion matrix\n",
    "plt.figure(figsize=(10, 8))\n",
    "\n",
    "# Create the heatmap with no annotations and add color bar on the right\n",
    "sns.heatmap(conf_matrix, annot=False, cmap='Blues', cbar=True, cbar_kws={\"shrink\": 0.5})\n",
    "\n",
    "# Set the title and labels with reduced font sizes\n",
    "plt.title('Confusion Matrix', fontsize=12)\n",
    "plt.xlabel('Predicted Labels', fontsize=10)\n",
    "plt.ylabel('True Labels', fontsize=10)\n",
    "\n",
    "# Ensure tick labels are visible with reduced font size\n",
    "plt.xticks(fontsize=7)\n",
    "plt.yticks(fontsize=7)\n",
    "\n",
    "plt.show()"
   ]
  },
  {
   "cell_type": "markdown",
   "metadata": {
    "jp-MarkdownHeadingCollapsed": true,
    "tags": []
   },
   "source": [
    "### All at once"
   ]
  },
  {
   "cell_type": "code",
   "execution_count": 11,
   "metadata": {},
   "outputs": [
    {
     "name": "stdout",
     "output_type": "stream",
     "text": [
      "[1.50e-06 2.50e-06 3.50e-06 4.50e-06 5.50e-06 6.50e-06 7.50e-06 8.50e-06\n",
      " 9.50e-06 1.05e-05 1.15e-05 1.25e-05 1.35e-05 1.45e-05 1.55e-05 1.65e-05\n",
      " 1.75e-05 1.85e-05 1.95e-05 2.05e-05 2.15e-05 2.25e-05 2.35e-05 2.45e-05\n",
      " 2.55e-05 2.65e-05 2.75e-05 2.85e-05 2.95e-05 3.05e-05 3.15e-05 3.25e-05\n",
      " 3.35e-05 3.45e-05 3.55e-05 3.65e-05 3.75e-05 3.85e-05 3.95e-05 4.05e-05\n",
      " 4.15e-05 4.25e-05 4.35e-05 4.45e-05 4.55e-05 4.65e-05 4.75e-05 4.85e-05\n",
      " 4.95e-05 5.05e-05 5.15e-05 5.25e-05 5.35e-05 5.45e-05 5.55e-05 5.65e-05\n",
      " 5.75e-05 5.85e-05 5.95e-05 6.05e-05 6.15e-05 6.25e-05 6.35e-05 6.45e-05\n",
      " 6.55e-05 6.65e-05 6.75e-05 6.85e-05 6.95e-05 7.05e-05 7.15e-05 7.25e-05\n",
      " 7.35e-05 7.45e-05 7.55e-05 7.65e-05 7.75e-05 7.85e-05 7.95e-05 8.05e-05\n",
      " 8.15e-05 8.25e-05 8.35e-05 8.45e-05 8.55e-05 8.65e-05 8.75e-05 8.85e-05\n",
      " 8.95e-05 9.05e-05 9.15e-05 9.25e-05 9.35e-05 9.45e-05 9.55e-05 9.65e-05\n",
      " 9.75e-05 9.85e-05 9.95e-05]\n"
     ]
    }
   ],
   "source": [
    "# Given array\n",
    "k_list = np.linspace(1e-6, 1e-4, 100)\n",
    "\n",
    "# Initialize a list to store the averages\n",
    "k_mean = []\n",
    "\n",
    "# Loop through the array starting from the second element\n",
    "for i in range(1, len(k_list)):\n",
    "    mean = (k_list[i] + k_list[i-1]) / 2\n",
    "    k_mean.append(mean)\n",
    "\n",
    "# Convert the list to a numpy array (optional)\n",
    "k_mean = np.array(k_mean)\n",
    "\n",
    "print(k_mean)"
   ]
  },
  {
   "cell_type": "code",
   "execution_count": 13,
   "metadata": {},
   "outputs": [],
   "source": [
    "# Define the image transformations (same as used during training)\n",
    "transform = transforms.Compose([\n",
    "    transforms.Resize((224, 224)),\n",
    "    transforms.ToTensor(),\n",
    "    transforms.Normalize(mean=[0.485, 0.456, 0.406], std=[0.229, 0.224, 0.225]),\n",
    "])\n",
    "\n",
    "# Function to perform inference and get probabilities\n",
    "def predict_image(image_path, model, transform, device):\n",
    "    # Load and preprocess the image\n",
    "    image = Image.open(image_path).convert('RGB')\n",
    "    image = transform(image).unsqueeze(0)  # Add batch dimension\n",
    "    image = image.to(device)\n",
    "\n",
    "    # Perform inference\n",
    "    with torch.no_grad():\n",
    "        outputs = model(image)\n",
    "        probabilities = F.softmax(outputs, dim=1)  # Convert logits to probabilities\n",
    "        predicted_class = torch.argmax(probabilities, dim=1)\n",
    "\n",
    "    return predicted_class.item(), probabilities.cpu().numpy().flatten()\n",
    "\n",
    "def all_at_once(model_path):\n",
    "    \n",
    "    # Define the device\n",
    "    device = torch.device('cuda' if torch.cuda.is_available() else 'cpu')\n",
    "    print(f\"Using device: {device}\")\n",
    "\n",
    "    # Load the pretrained AlexNet model\n",
    "    model = alexnet(pretrained=True)\n",
    "\n",
    "    # Modify the classifier to output 18 classes\n",
    "    model.classifier[-1] = nn.Linear(in_features=4096, out_features=99)\n",
    "\n",
    "    # Load the model weights\n",
    "    model.load_state_dict(torch.load(model_path))\n",
    "    model.to(device)\n",
    "    model.eval()\n",
    "\n",
    "    # Initialize lists to store true labels, predictions, and k predictions\n",
    "    all_labels = []\n",
    "    all_preds = []\n",
    "    all_k_preds = []\n",
    "\n",
    "    # Inference on the test dataset\n",
    "    with torch.no_grad():\n",
    "        for images, labels in test_loader:\n",
    "            images = images.to(device)\n",
    "            labels = labels.to(device)\n",
    "\n",
    "            outputs = model(images)\n",
    "\n",
    "            # Compute probabilities using softmax\n",
    "            probabilities = torch.nn.functional.softmax(outputs, dim=1).cpu().numpy()\n",
    "\n",
    "            # Predict class with max probability\n",
    "            _, preds = torch.max(outputs, 1)\n",
    "\n",
    "            # Compute k_predictions using np.dot(k_mean, probabilities) for each image\n",
    "            k_preds = np.dot(probabilities, k_mean)\n",
    "\n",
    "            all_labels.extend(labels.cpu().numpy())\n",
    "            all_preds.extend(preds.cpu().numpy())\n",
    "            all_k_preds.extend(k_preds)\n",
    "    \n",
    "    # Convert lists to numpy arrays\n",
    "    all_labels = np.array(all_labels)\n",
    "    all_preds = np.array(all_preds)\n",
    "    all_k_preds = np.array(all_k_preds)\n",
    "    df_test_report = df_test.copy(deep=True)\n",
    "    df_test_report[\"level_preds\"] = all_preds\n",
    "    df_test_report[\"k_gt\"] = df_test_full[\"k\"]\n",
    "    df_test_report[\"k_preds\"] = all_k_preds\n",
    "    df_test_report['percentage_error'] = 100 * abs(df_test_report['k_gt'] - df_test_report['k_preds']) / df_test_report['k_gt']\n",
    "\n",
    "    # Compute the average percentage error across all rows\n",
    "    average_percentage_error = df_test_report['percentage_error'].mean()\n",
    "\n",
    "    return round(average_percentage_error,4)"
   ]
  },
  {
   "cell_type": "code",
   "execution_count": 14,
   "metadata": {},
   "outputs": [
    {
     "name": "stdout",
     "output_type": "stream",
     "text": [
      "Using device: cuda\n"
     ]
    },
    {
     "name": "stderr",
     "output_type": "stream",
     "text": [
      "/usr/local/lib64/python3.7/site-packages/torchvision/models/_utils.py:209: UserWarning: The parameter 'pretrained' is deprecated since 0.13 and may be removed in the future, please use 'weights' instead.\n",
      "  f\"The parameter '{pretrained_param}' is deprecated since 0.13 and may be removed in the future, \"\n",
      "/usr/local/lib64/python3.7/site-packages/torchvision/models/_utils.py:223: UserWarning: Arguments other than a weight enum or `None` for 'weights' are deprecated since 0.13 and may be removed in the future. The current behavior is equivalent to passing `weights=AlexNet_Weights.IMAGENET1K_V1`. You can also use `weights=AlexNet_Weights.DEFAULT` to get the most up-to-date weights.\n",
      "  warnings.warn(msg)\n"
     ]
    },
    {
     "name": "stdout",
     "output_type": "stream",
     "text": [
      "Epoch 21: average_percentage_error = 4.721\n",
      "Using device: cuda\n",
      "Epoch 22: average_percentage_error = 4.5706\n",
      "Using device: cuda\n",
      "Epoch 23: average_percentage_error = 4.6181\n",
      "Using device: cuda\n",
      "Epoch 24: average_percentage_error = 4.6282\n",
      "Using device: cuda\n",
      "Epoch 25: average_percentage_error = 5.1576\n",
      "Using device: cuda\n",
      "Epoch 26: average_percentage_error = 4.5956\n",
      "Using device: cuda\n",
      "Epoch 27: average_percentage_error = 4.6005\n",
      "Using device: cuda\n",
      "Epoch 28: average_percentage_error = 4.5178\n",
      "Using device: cuda\n",
      "Epoch 29: average_percentage_error = 4.6424\n",
      "Using device: cuda\n",
      "Epoch 30: average_percentage_error = 4.7506\n"
     ]
    },
    {
     "data": {
      "text/plain": [
       "[4.721, 4.5706, 4.6181, 4.6282, 5.1576, 4.5956, 4.6005, 4.5178, 4.6424, 4.7506]"
      ]
     },
     "execution_count": 14,
     "metadata": {},
     "output_type": "execute_result"
    }
   ],
   "source": [
    "average_percentage_error_list = []\n",
    "\n",
    "for i in range(21,31):\n",
    "    model_path = f\"AlexNet_cuda_weights/classi/alexnet_classi_epoch_{i}.pth\"\n",
    "    average_percentage_error = all_at_once(model_path)\n",
    "    average_percentage_error_list.append(average_percentage_error)\n",
    "    print(f\"Epoch {i}: average_percentage_error = {average_percentage_error}\")\n",
    "\n",
    "average_percentage_error_list"
   ]
  }
 ],
 "metadata": {
  "kernelspec": {
   "display_name": "Python 3 (ipykernel)",
   "language": "python",
   "name": "python3"
  },
  "language_info": {
   "codemirror_mode": {
    "name": "ipython",
    "version": 3
   },
   "file_extension": ".py",
   "mimetype": "text/x-python",
   "name": "python",
   "nbconvert_exporter": "python",
   "pygments_lexer": "ipython3",
   "version": "3.8.13"
  }
 },
 "nbformat": 4,
 "nbformat_minor": 4
}
